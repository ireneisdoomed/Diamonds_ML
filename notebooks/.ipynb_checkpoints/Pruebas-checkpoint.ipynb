{
 "cells": [
  {
   "cell_type": "code",
   "execution_count": 13,
   "metadata": {},
   "outputs": [],
   "source": [
    "%matplotlib inline\n",
    "\n",
    "import pandas as pd\n",
    "import numpy as np\n",
    "import matplotlib.pyplot as plt\n",
    "import seaborn as sns\n",
    "\n",
    "from sklearn.ensemble import RandomForestRegressor\n",
    "from sklearn.model_selection import StratifiedKFold, train_test_split\n",
    "from sklearn.metrics import *\n",
    "\n",
    "import pygam"
   ]
  },
  {
   "cell_type": "code",
   "execution_count": 14,
   "metadata": {},
   "outputs": [],
   "source": [
    "data = pd.read_csv(\"../diamonds_train.csv\")"
   ]
  },
  {
   "cell_type": "code",
   "execution_count": 15,
   "metadata": {},
   "outputs": [
    {
     "data": {
      "text/html": [
       "<div>\n",
       "<style scoped>\n",
       "    .dataframe tbody tr th:only-of-type {\n",
       "        vertical-align: middle;\n",
       "    }\n",
       "\n",
       "    .dataframe tbody tr th {\n",
       "        vertical-align: top;\n",
       "    }\n",
       "\n",
       "    .dataframe thead th {\n",
       "        text-align: right;\n",
       "    }\n",
       "</style>\n",
       "<table border=\"1\" class=\"dataframe\">\n",
       "  <thead>\n",
       "    <tr style=\"text-align: right;\">\n",
       "      <th></th>\n",
       "      <th>id</th>\n",
       "      <th>carat</th>\n",
       "      <th>cut</th>\n",
       "      <th>color</th>\n",
       "      <th>clarity</th>\n",
       "      <th>depth</th>\n",
       "      <th>table</th>\n",
       "      <th>x</th>\n",
       "      <th>y</th>\n",
       "      <th>z</th>\n",
       "      <th>price</th>\n",
       "    </tr>\n",
       "  </thead>\n",
       "  <tbody>\n",
       "    <tr>\n",
       "      <th>0</th>\n",
       "      <td>0</td>\n",
       "      <td>0.78</td>\n",
       "      <td>Premium</td>\n",
       "      <td>F</td>\n",
       "      <td>VS1</td>\n",
       "      <td>61.5</td>\n",
       "      <td>58.0</td>\n",
       "      <td>5.93</td>\n",
       "      <td>5.98</td>\n",
       "      <td>3.66</td>\n",
       "      <td>3446</td>\n",
       "    </tr>\n",
       "    <tr>\n",
       "      <th>1</th>\n",
       "      <td>1</td>\n",
       "      <td>0.31</td>\n",
       "      <td>Ideal</td>\n",
       "      <td>D</td>\n",
       "      <td>SI1</td>\n",
       "      <td>60.8</td>\n",
       "      <td>56.0</td>\n",
       "      <td>4.37</td>\n",
       "      <td>4.32</td>\n",
       "      <td>2.64</td>\n",
       "      <td>732</td>\n",
       "    </tr>\n",
       "    <tr>\n",
       "      <th>2</th>\n",
       "      <td>2</td>\n",
       "      <td>0.30</td>\n",
       "      <td>Ideal</td>\n",
       "      <td>F</td>\n",
       "      <td>SI1</td>\n",
       "      <td>62.3</td>\n",
       "      <td>54.0</td>\n",
       "      <td>4.30</td>\n",
       "      <td>4.34</td>\n",
       "      <td>2.69</td>\n",
       "      <td>475</td>\n",
       "    </tr>\n",
       "    <tr>\n",
       "      <th>3</th>\n",
       "      <td>3</td>\n",
       "      <td>1.04</td>\n",
       "      <td>Ideal</td>\n",
       "      <td>E</td>\n",
       "      <td>VVS2</td>\n",
       "      <td>62.0</td>\n",
       "      <td>58.0</td>\n",
       "      <td>6.54</td>\n",
       "      <td>6.46</td>\n",
       "      <td>4.03</td>\n",
       "      <td>9552</td>\n",
       "    </tr>\n",
       "    <tr>\n",
       "      <th>4</th>\n",
       "      <td>4</td>\n",
       "      <td>0.65</td>\n",
       "      <td>Ideal</td>\n",
       "      <td>J</td>\n",
       "      <td>SI1</td>\n",
       "      <td>61.4</td>\n",
       "      <td>55.0</td>\n",
       "      <td>5.58</td>\n",
       "      <td>5.62</td>\n",
       "      <td>3.44</td>\n",
       "      <td>1276</td>\n",
       "    </tr>\n",
       "  </tbody>\n",
       "</table>\n",
       "</div>"
      ],
      "text/plain": [
       "   id  carat      cut color clarity  depth  table     x     y     z  price\n",
       "0   0   0.78  Premium     F     VS1   61.5   58.0  5.93  5.98  3.66   3446\n",
       "1   1   0.31    Ideal     D     SI1   60.8   56.0  4.37  4.32  2.64    732\n",
       "2   2   0.30    Ideal     F     SI1   62.3   54.0  4.30  4.34  2.69    475\n",
       "3   3   1.04    Ideal     E    VVS2   62.0   58.0  6.54  6.46  4.03   9552\n",
       "4   4   0.65    Ideal     J     SI1   61.4   55.0  5.58  5.62  3.44   1276"
      ]
     },
     "execution_count": 15,
     "metadata": {},
     "output_type": "execute_result"
    }
   ],
   "source": [
    "data.head()"
   ]
  },
  {
   "cell_type": "code",
   "execution_count": 16,
   "metadata": {},
   "outputs": [
    {
     "data": {
      "text/plain": [
       "id           int64\n",
       "carat      float64\n",
       "cut         object\n",
       "color       object\n",
       "clarity     object\n",
       "depth      float64\n",
       "table      float64\n",
       "x          float64\n",
       "y          float64\n",
       "z          float64\n",
       "price        int64\n",
       "dtype: object"
      ]
     },
     "execution_count": 16,
     "metadata": {},
     "output_type": "execute_result"
    }
   ],
   "source": [
    "# A primera vista tengo que limpiar cut, color y clarity \n",
    "\n",
    "data.dtypes"
   ]
  },
  {
   "cell_type": "markdown",
   "metadata": {},
   "source": [
    "## Variables categóricas a numéricas"
   ]
  },
  {
   "cell_type": "code",
   "execution_count": 17,
   "metadata": {},
   "outputs": [],
   "source": [
    "#data = pd.get_dummies(data)"
   ]
  },
  {
   "cell_type": "code",
   "execution_count": 18,
   "metadata": {},
   "outputs": [
    {
     "data": {
      "text/plain": [
       "id           int64\n",
       "carat      float64\n",
       "cut         object\n",
       "color       object\n",
       "clarity     object\n",
       "depth      float64\n",
       "table      float64\n",
       "x          float64\n",
       "y          float64\n",
       "z          float64\n",
       "price        int64\n",
       "dtype: object"
      ]
     },
     "execution_count": 18,
     "metadata": {},
     "output_type": "execute_result"
    }
   ],
   "source": [
    "data.dtypes"
   ]
  },
  {
   "cell_type": "markdown",
   "metadata": {},
   "source": [
    "## Normalización"
   ]
  },
  {
   "cell_type": "code",
   "execution_count": 19,
   "metadata": {},
   "outputs": [],
   "source": [
    "from sklearn.preprocessing import StandardScaler, Normalizer\n",
    "from sklearn.pipeline import make_pipeline"
   ]
  },
  {
   "cell_type": "code",
   "execution_count": 20,
   "metadata": {},
   "outputs": [],
   "source": [
    "data.drop([\"id\"], axis=1, inplace=True)"
   ]
  },
  {
   "cell_type": "code",
   "execution_count": 21,
   "metadata": {},
   "outputs": [],
   "source": [
    "data1 = data[[\"carat\", \"depth\", \"table\", \"x\", \"y\", \"z\"]]"
   ]
  },
  {
   "cell_type": "code",
   "execution_count": 22,
   "metadata": {},
   "outputs": [],
   "source": [
    "transformer = Normalizer()\n",
    "\n",
    "transformer.fit(data1)\n",
    "\n",
    "\n",
    "data1 = pd.DataFrame(transformer.transform(data1),columns=data1.columns)\n",
    "\n"
   ]
  },
  {
   "cell_type": "code",
   "execution_count": 23,
   "metadata": {},
   "outputs": [
    {
     "data": {
      "text/html": [
       "<div>\n",
       "<style scoped>\n",
       "    .dataframe tbody tr th:only-of-type {\n",
       "        vertical-align: middle;\n",
       "    }\n",
       "\n",
       "    .dataframe tbody tr th {\n",
       "        vertical-align: top;\n",
       "    }\n",
       "\n",
       "    .dataframe thead th {\n",
       "        text-align: right;\n",
       "    }\n",
       "</style>\n",
       "<table border=\"1\" class=\"dataframe\">\n",
       "  <thead>\n",
       "    <tr style=\"text-align: right;\">\n",
       "      <th></th>\n",
       "      <th>carat</th>\n",
       "      <th>depth</th>\n",
       "      <th>table</th>\n",
       "      <th>x</th>\n",
       "      <th>y</th>\n",
       "      <th>z</th>\n",
       "    </tr>\n",
       "  </thead>\n",
       "  <tbody>\n",
       "    <tr>\n",
       "      <th>0</th>\n",
       "      <td>0.009173</td>\n",
       "      <td>0.723220</td>\n",
       "      <td>0.682061</td>\n",
       "      <td>0.069735</td>\n",
       "      <td>0.070323</td>\n",
       "      <td>0.043040</td>\n",
       "    </tr>\n",
       "    <tr>\n",
       "      <th>1</th>\n",
       "      <td>0.003738</td>\n",
       "      <td>0.733144</td>\n",
       "      <td>0.675264</td>\n",
       "      <td>0.052695</td>\n",
       "      <td>0.052092</td>\n",
       "      <td>0.031834</td>\n",
       "    </tr>\n",
       "    <tr>\n",
       "      <th>2</th>\n",
       "      <td>0.003627</td>\n",
       "      <td>0.753179</td>\n",
       "      <td>0.652836</td>\n",
       "      <td>0.051985</td>\n",
       "      <td>0.052469</td>\n",
       "      <td>0.032521</td>\n",
       "    </tr>\n",
       "    <tr>\n",
       "      <th>3</th>\n",
       "      <td>0.012164</td>\n",
       "      <td>0.725167</td>\n",
       "      <td>0.678382</td>\n",
       "      <td>0.076493</td>\n",
       "      <td>0.075558</td>\n",
       "      <td>0.047136</td>\n",
       "    </tr>\n",
       "    <tr>\n",
       "      <th>4</th>\n",
       "      <td>0.007842</td>\n",
       "      <td>0.740785</td>\n",
       "      <td>0.663569</td>\n",
       "      <td>0.067322</td>\n",
       "      <td>0.067805</td>\n",
       "      <td>0.041503</td>\n",
       "    </tr>\n",
       "    <tr>\n",
       "      <th>...</th>\n",
       "      <td>...</td>\n",
       "      <td>...</td>\n",
       "      <td>...</td>\n",
       "      <td>...</td>\n",
       "      <td>...</td>\n",
       "      <td>...</td>\n",
       "    </tr>\n",
       "    <tr>\n",
       "      <th>40340</th>\n",
       "      <td>0.005963</td>\n",
       "      <td>0.738268</td>\n",
       "      <td>0.667900</td>\n",
       "      <td>0.060707</td>\n",
       "      <td>0.061065</td>\n",
       "      <td>0.037689</td>\n",
       "    </tr>\n",
       "    <tr>\n",
       "      <th>40341</th>\n",
       "      <td>0.003944</td>\n",
       "      <td>0.738552</td>\n",
       "      <td>0.669238</td>\n",
       "      <td>0.052583</td>\n",
       "      <td>0.053061</td>\n",
       "      <td>0.032625</td>\n",
       "    </tr>\n",
       "    <tr>\n",
       "      <th>40342</th>\n",
       "      <td>0.004714</td>\n",
       "      <td>0.724821</td>\n",
       "      <td>0.683571</td>\n",
       "      <td>0.055275</td>\n",
       "      <td>0.055864</td>\n",
       "      <td>0.034179</td>\n",
       "    </tr>\n",
       "    <tr>\n",
       "      <th>40343</th>\n",
       "      <td>0.012581</td>\n",
       "      <td>0.726399</td>\n",
       "      <td>0.676548</td>\n",
       "      <td>0.078218</td>\n",
       "      <td>0.077862</td>\n",
       "      <td>0.047833</td>\n",
       "    </tr>\n",
       "    <tr>\n",
       "      <th>40344</th>\n",
       "      <td>0.011952</td>\n",
       "      <td>0.750228</td>\n",
       "      <td>0.650828</td>\n",
       "      <td>0.075141</td>\n",
       "      <td>0.074431</td>\n",
       "      <td>0.047451</td>\n",
       "    </tr>\n",
       "  </tbody>\n",
       "</table>\n",
       "<p>40345 rows × 6 columns</p>\n",
       "</div>"
      ],
      "text/plain": [
       "          carat     depth     table         x         y         z\n",
       "0      0.009173  0.723220  0.682061  0.069735  0.070323  0.043040\n",
       "1      0.003738  0.733144  0.675264  0.052695  0.052092  0.031834\n",
       "2      0.003627  0.753179  0.652836  0.051985  0.052469  0.032521\n",
       "3      0.012164  0.725167  0.678382  0.076493  0.075558  0.047136\n",
       "4      0.007842  0.740785  0.663569  0.067322  0.067805  0.041503\n",
       "...         ...       ...       ...       ...       ...       ...\n",
       "40340  0.005963  0.738268  0.667900  0.060707  0.061065  0.037689\n",
       "40341  0.003944  0.738552  0.669238  0.052583  0.053061  0.032625\n",
       "40342  0.004714  0.724821  0.683571  0.055275  0.055864  0.034179\n",
       "40343  0.012581  0.726399  0.676548  0.078218  0.077862  0.047833\n",
       "40344  0.011952  0.750228  0.650828  0.075141  0.074431  0.047451\n",
       "\n",
       "[40345 rows x 6 columns]"
      ]
     },
     "execution_count": 23,
     "metadata": {},
     "output_type": "execute_result"
    }
   ],
   "source": [
    "data1"
   ]
  },
  {
   "cell_type": "code",
   "execution_count": 24,
   "metadata": {},
   "outputs": [],
   "source": [
    "data2 = data.copy().drop([\"carat\", \"depth\", \"table\", \"x\", \"y\", \"z\"], axis=1)"
   ]
  },
  {
   "cell_type": "code",
   "execution_count": 25,
   "metadata": {},
   "outputs": [],
   "source": [
    "data2 = pd.get_dummies(data2)"
   ]
  },
  {
   "cell_type": "code",
   "execution_count": 26,
   "metadata": {},
   "outputs": [
    {
     "data": {
      "text/html": [
       "<div>\n",
       "<style scoped>\n",
       "    .dataframe tbody tr th:only-of-type {\n",
       "        vertical-align: middle;\n",
       "    }\n",
       "\n",
       "    .dataframe tbody tr th {\n",
       "        vertical-align: top;\n",
       "    }\n",
       "\n",
       "    .dataframe thead th {\n",
       "        text-align: right;\n",
       "    }\n",
       "</style>\n",
       "<table border=\"1\" class=\"dataframe\">\n",
       "  <thead>\n",
       "    <tr style=\"text-align: right;\">\n",
       "      <th></th>\n",
       "      <th>carat</th>\n",
       "      <th>depth</th>\n",
       "      <th>table</th>\n",
       "      <th>x</th>\n",
       "      <th>y</th>\n",
       "      <th>z</th>\n",
       "      <th>price</th>\n",
       "      <th>cut_Fair</th>\n",
       "      <th>cut_Good</th>\n",
       "      <th>cut_Ideal</th>\n",
       "      <th>...</th>\n",
       "      <th>color_I</th>\n",
       "      <th>color_J</th>\n",
       "      <th>clarity_I1</th>\n",
       "      <th>clarity_IF</th>\n",
       "      <th>clarity_SI1</th>\n",
       "      <th>clarity_SI2</th>\n",
       "      <th>clarity_VS1</th>\n",
       "      <th>clarity_VS2</th>\n",
       "      <th>clarity_VVS1</th>\n",
       "      <th>clarity_VVS2</th>\n",
       "    </tr>\n",
       "  </thead>\n",
       "  <tbody>\n",
       "    <tr>\n",
       "      <th>0</th>\n",
       "      <td>0.009173</td>\n",
       "      <td>0.723220</td>\n",
       "      <td>0.682061</td>\n",
       "      <td>0.069735</td>\n",
       "      <td>0.070323</td>\n",
       "      <td>0.043040</td>\n",
       "      <td>3446</td>\n",
       "      <td>0</td>\n",
       "      <td>0</td>\n",
       "      <td>0</td>\n",
       "      <td>...</td>\n",
       "      <td>0</td>\n",
       "      <td>0</td>\n",
       "      <td>0</td>\n",
       "      <td>0</td>\n",
       "      <td>0</td>\n",
       "      <td>0</td>\n",
       "      <td>1</td>\n",
       "      <td>0</td>\n",
       "      <td>0</td>\n",
       "      <td>0</td>\n",
       "    </tr>\n",
       "    <tr>\n",
       "      <th>1</th>\n",
       "      <td>0.003738</td>\n",
       "      <td>0.733144</td>\n",
       "      <td>0.675264</td>\n",
       "      <td>0.052695</td>\n",
       "      <td>0.052092</td>\n",
       "      <td>0.031834</td>\n",
       "      <td>732</td>\n",
       "      <td>0</td>\n",
       "      <td>0</td>\n",
       "      <td>1</td>\n",
       "      <td>...</td>\n",
       "      <td>0</td>\n",
       "      <td>0</td>\n",
       "      <td>0</td>\n",
       "      <td>0</td>\n",
       "      <td>1</td>\n",
       "      <td>0</td>\n",
       "      <td>0</td>\n",
       "      <td>0</td>\n",
       "      <td>0</td>\n",
       "      <td>0</td>\n",
       "    </tr>\n",
       "    <tr>\n",
       "      <th>2</th>\n",
       "      <td>0.003627</td>\n",
       "      <td>0.753179</td>\n",
       "      <td>0.652836</td>\n",
       "      <td>0.051985</td>\n",
       "      <td>0.052469</td>\n",
       "      <td>0.032521</td>\n",
       "      <td>475</td>\n",
       "      <td>0</td>\n",
       "      <td>0</td>\n",
       "      <td>1</td>\n",
       "      <td>...</td>\n",
       "      <td>0</td>\n",
       "      <td>0</td>\n",
       "      <td>0</td>\n",
       "      <td>0</td>\n",
       "      <td>1</td>\n",
       "      <td>0</td>\n",
       "      <td>0</td>\n",
       "      <td>0</td>\n",
       "      <td>0</td>\n",
       "      <td>0</td>\n",
       "    </tr>\n",
       "    <tr>\n",
       "      <th>3</th>\n",
       "      <td>0.012164</td>\n",
       "      <td>0.725167</td>\n",
       "      <td>0.678382</td>\n",
       "      <td>0.076493</td>\n",
       "      <td>0.075558</td>\n",
       "      <td>0.047136</td>\n",
       "      <td>9552</td>\n",
       "      <td>0</td>\n",
       "      <td>0</td>\n",
       "      <td>1</td>\n",
       "      <td>...</td>\n",
       "      <td>0</td>\n",
       "      <td>0</td>\n",
       "      <td>0</td>\n",
       "      <td>0</td>\n",
       "      <td>0</td>\n",
       "      <td>0</td>\n",
       "      <td>0</td>\n",
       "      <td>0</td>\n",
       "      <td>0</td>\n",
       "      <td>1</td>\n",
       "    </tr>\n",
       "    <tr>\n",
       "      <th>4</th>\n",
       "      <td>0.007842</td>\n",
       "      <td>0.740785</td>\n",
       "      <td>0.663569</td>\n",
       "      <td>0.067322</td>\n",
       "      <td>0.067805</td>\n",
       "      <td>0.041503</td>\n",
       "      <td>1276</td>\n",
       "      <td>0</td>\n",
       "      <td>0</td>\n",
       "      <td>1</td>\n",
       "      <td>...</td>\n",
       "      <td>0</td>\n",
       "      <td>1</td>\n",
       "      <td>0</td>\n",
       "      <td>0</td>\n",
       "      <td>1</td>\n",
       "      <td>0</td>\n",
       "      <td>0</td>\n",
       "      <td>0</td>\n",
       "      <td>0</td>\n",
       "      <td>0</td>\n",
       "    </tr>\n",
       "    <tr>\n",
       "      <th>...</th>\n",
       "      <td>...</td>\n",
       "      <td>...</td>\n",
       "      <td>...</td>\n",
       "      <td>...</td>\n",
       "      <td>...</td>\n",
       "      <td>...</td>\n",
       "      <td>...</td>\n",
       "      <td>...</td>\n",
       "      <td>...</td>\n",
       "      <td>...</td>\n",
       "      <td>...</td>\n",
       "      <td>...</td>\n",
       "      <td>...</td>\n",
       "      <td>...</td>\n",
       "      <td>...</td>\n",
       "      <td>...</td>\n",
       "      <td>...</td>\n",
       "      <td>...</td>\n",
       "      <td>...</td>\n",
       "      <td>...</td>\n",
       "      <td>...</td>\n",
       "    </tr>\n",
       "    <tr>\n",
       "      <th>40340</th>\n",
       "      <td>0.005963</td>\n",
       "      <td>0.738268</td>\n",
       "      <td>0.667900</td>\n",
       "      <td>0.060707</td>\n",
       "      <td>0.061065</td>\n",
       "      <td>0.037689</td>\n",
       "      <td>1716</td>\n",
       "      <td>0</td>\n",
       "      <td>0</td>\n",
       "      <td>1</td>\n",
       "      <td>...</td>\n",
       "      <td>0</td>\n",
       "      <td>0</td>\n",
       "      <td>0</td>\n",
       "      <td>0</td>\n",
       "      <td>0</td>\n",
       "      <td>0</td>\n",
       "      <td>1</td>\n",
       "      <td>0</td>\n",
       "      <td>0</td>\n",
       "      <td>0</td>\n",
       "    </tr>\n",
       "    <tr>\n",
       "      <th>40341</th>\n",
       "      <td>0.003944</td>\n",
       "      <td>0.738552</td>\n",
       "      <td>0.669238</td>\n",
       "      <td>0.052583</td>\n",
       "      <td>0.053061</td>\n",
       "      <td>0.032625</td>\n",
       "      <td>781</td>\n",
       "      <td>0</td>\n",
       "      <td>0</td>\n",
       "      <td>1</td>\n",
       "      <td>...</td>\n",
       "      <td>0</td>\n",
       "      <td>0</td>\n",
       "      <td>0</td>\n",
       "      <td>0</td>\n",
       "      <td>0</td>\n",
       "      <td>0</td>\n",
       "      <td>0</td>\n",
       "      <td>1</td>\n",
       "      <td>0</td>\n",
       "      <td>0</td>\n",
       "    </tr>\n",
       "    <tr>\n",
       "      <th>40342</th>\n",
       "      <td>0.004714</td>\n",
       "      <td>0.724821</td>\n",
       "      <td>0.683571</td>\n",
       "      <td>0.055275</td>\n",
       "      <td>0.055864</td>\n",
       "      <td>0.034179</td>\n",
       "      <td>1123</td>\n",
       "      <td>0</td>\n",
       "      <td>0</td>\n",
       "      <td>0</td>\n",
       "      <td>...</td>\n",
       "      <td>0</td>\n",
       "      <td>0</td>\n",
       "      <td>0</td>\n",
       "      <td>0</td>\n",
       "      <td>0</td>\n",
       "      <td>0</td>\n",
       "      <td>0</td>\n",
       "      <td>0</td>\n",
       "      <td>1</td>\n",
       "      <td>0</td>\n",
       "    </tr>\n",
       "    <tr>\n",
       "      <th>40343</th>\n",
       "      <td>0.012581</td>\n",
       "      <td>0.726399</td>\n",
       "      <td>0.676548</td>\n",
       "      <td>0.078218</td>\n",
       "      <td>0.077862</td>\n",
       "      <td>0.047833</td>\n",
       "      <td>5651</td>\n",
       "      <td>0</td>\n",
       "      <td>0</td>\n",
       "      <td>1</td>\n",
       "      <td>...</td>\n",
       "      <td>1</td>\n",
       "      <td>0</td>\n",
       "      <td>0</td>\n",
       "      <td>0</td>\n",
       "      <td>0</td>\n",
       "      <td>0</td>\n",
       "      <td>1</td>\n",
       "      <td>0</td>\n",
       "      <td>0</td>\n",
       "      <td>0</td>\n",
       "    </tr>\n",
       "    <tr>\n",
       "      <th>40344</th>\n",
       "      <td>0.011952</td>\n",
       "      <td>0.750228</td>\n",
       "      <td>0.650828</td>\n",
       "      <td>0.075141</td>\n",
       "      <td>0.074431</td>\n",
       "      <td>0.047451</td>\n",
       "      <td>3959</td>\n",
       "      <td>0</td>\n",
       "      <td>0</td>\n",
       "      <td>0</td>\n",
       "      <td>...</td>\n",
       "      <td>0</td>\n",
       "      <td>0</td>\n",
       "      <td>0</td>\n",
       "      <td>0</td>\n",
       "      <td>0</td>\n",
       "      <td>1</td>\n",
       "      <td>0</td>\n",
       "      <td>0</td>\n",
       "      <td>0</td>\n",
       "      <td>0</td>\n",
       "    </tr>\n",
       "  </tbody>\n",
       "</table>\n",
       "<p>40345 rows × 27 columns</p>\n",
       "</div>"
      ],
      "text/plain": [
       "          carat     depth     table         x         y         z  price  \\\n",
       "0      0.009173  0.723220  0.682061  0.069735  0.070323  0.043040   3446   \n",
       "1      0.003738  0.733144  0.675264  0.052695  0.052092  0.031834    732   \n",
       "2      0.003627  0.753179  0.652836  0.051985  0.052469  0.032521    475   \n",
       "3      0.012164  0.725167  0.678382  0.076493  0.075558  0.047136   9552   \n",
       "4      0.007842  0.740785  0.663569  0.067322  0.067805  0.041503   1276   \n",
       "...         ...       ...       ...       ...       ...       ...    ...   \n",
       "40340  0.005963  0.738268  0.667900  0.060707  0.061065  0.037689   1716   \n",
       "40341  0.003944  0.738552  0.669238  0.052583  0.053061  0.032625    781   \n",
       "40342  0.004714  0.724821  0.683571  0.055275  0.055864  0.034179   1123   \n",
       "40343  0.012581  0.726399  0.676548  0.078218  0.077862  0.047833   5651   \n",
       "40344  0.011952  0.750228  0.650828  0.075141  0.074431  0.047451   3959   \n",
       "\n",
       "       cut_Fair  cut_Good  cut_Ideal  ...  color_I  color_J  clarity_I1  \\\n",
       "0             0         0          0  ...        0        0           0   \n",
       "1             0         0          1  ...        0        0           0   \n",
       "2             0         0          1  ...        0        0           0   \n",
       "3             0         0          1  ...        0        0           0   \n",
       "4             0         0          1  ...        0        1           0   \n",
       "...         ...       ...        ...  ...      ...      ...         ...   \n",
       "40340         0         0          1  ...        0        0           0   \n",
       "40341         0         0          1  ...        0        0           0   \n",
       "40342         0         0          0  ...        0        0           0   \n",
       "40343         0         0          1  ...        1        0           0   \n",
       "40344         0         0          0  ...        0        0           0   \n",
       "\n",
       "       clarity_IF  clarity_SI1  clarity_SI2  clarity_VS1  clarity_VS2  \\\n",
       "0               0            0            0            1            0   \n",
       "1               0            1            0            0            0   \n",
       "2               0            1            0            0            0   \n",
       "3               0            0            0            0            0   \n",
       "4               0            1            0            0            0   \n",
       "...           ...          ...          ...          ...          ...   \n",
       "40340           0            0            0            1            0   \n",
       "40341           0            0            0            0            1   \n",
       "40342           0            0            0            0            0   \n",
       "40343           0            0            0            1            0   \n",
       "40344           0            0            1            0            0   \n",
       "\n",
       "       clarity_VVS1  clarity_VVS2  \n",
       "0                 0             0  \n",
       "1                 0             0  \n",
       "2                 0             0  \n",
       "3                 0             1  \n",
       "4                 0             0  \n",
       "...             ...           ...  \n",
       "40340             0             0  \n",
       "40341             0             0  \n",
       "40342             1             0  \n",
       "40343             0             0  \n",
       "40344             0             0  \n",
       "\n",
       "[40345 rows x 27 columns]"
      ]
     },
     "execution_count": 26,
     "metadata": {},
     "output_type": "execute_result"
    }
   ],
   "source": [
    "data = pd.concat([data1, data2], axis=1, sort=False)\n",
    "\n",
    "data"
   ]
  },
  {
   "cell_type": "markdown",
   "metadata": {},
   "source": [
    "## Visualización"
   ]
  },
  {
   "cell_type": "code",
   "execution_count": 27,
   "metadata": {},
   "outputs": [
    {
     "data": {
      "text/plain": [
       "<matplotlib.axes._subplots.AxesSubplot at 0x7f299b5cba10>"
      ]
     },
     "execution_count": 27,
     "metadata": {},
     "output_type": "execute_result"
    },
    {
     "data": {
      "image/png": "[encoded data removed]",
      "text/plain": [
       "<Figure size 432x288 with 1 Axes>"
      ]
     },
     "metadata": {
      "needs_background": "light"
     },
     "output_type": "display_data"
    }
   ],
   "source": [
    "sns.distplot(data[\"carat\"])"
   ]
  },
  {
   "cell_type": "code",
   "execution_count": 28,
   "metadata": {},
   "outputs": [
    {
     "data": {
      "text/plain": [
       "<matplotlib.axes._subplots.AxesSubplot at 0x7f299b44d510>"
      ]
     },
     "execution_count": 28,
     "metadata": {},
     "output_type": "execute_result"
    },
    {
     "data": {
      "image/png": "[encoded data removed]",
      "text/plain": [
       "<Figure size 432x288 with 1 Axes>"
      ]
     },
     "metadata": {
      "needs_background": "light"
     },
     "output_type": "display_data"
    }
   ],
   "source": [
    "sns.distplot(data[\"depth\"])"
   ]
  },
  {
   "cell_type": "code",
   "execution_count": 29,
   "metadata": {},
   "outputs": [
    {
     "data": {
      "text/plain": [
       "<matplotlib.axes._subplots.AxesSubplot at 0x7f2998aadc90>"
      ]
     },
     "execution_count": 29,
     "metadata": {},
     "output_type": "execute_result"
    },
    {
     "data": {
      "image/png": "[encoded data removed]",
      "text/plain": [
       "<Figure size 432x288 with 1 Axes>"
      ]
     },
     "metadata": {
      "needs_background": "light"
     },
     "output_type": "display_data"
    }
   ],
   "source": [
    "sns.distplot(data[\"table\"])"
   ]
  },
  {
   "cell_type": "code",
   "execution_count": 30,
   "metadata": {},
   "outputs": [
    {
     "data": {
      "text/plain": [
       "<matplotlib.axes._subplots.AxesSubplot at 0x7f29989f0b90>"
      ]
     },
     "execution_count": 30,
     "metadata": {},
     "output_type": "execute_result"
    },
    {
     "data": {
      "image/png": "[encoded data removed]",
      "text/plain": [
       "<Figure size 432x288 with 1 Axes>"
      ]
     },
     "metadata": {
      "needs_background": "light"
     },
     "output_type": "display_data"
    }
   ],
   "source": [
    "sns.distplot(data[\"x\"])"
   ]
  },
  {
   "cell_type": "code",
   "execution_count": 31,
   "metadata": {},
   "outputs": [
    {
     "data": {
      "text/plain": [
       "<matplotlib.axes._subplots.AxesSubplot at 0x7f29988b04d0>"
      ]
     },
     "execution_count": 31,
     "metadata": {},
     "output_type": "execute_result"
    },
    {
     "data": {
      "image/png": "[encoded data removed]",
      "text/plain": [
       "<Figure size 432x288 with 1 Axes>"
      ]
     },
     "metadata": {
      "needs_background": "light"
     },
     "output_type": "display_data"
    }
   ],
   "source": [
    "sns.distplot(data[\"y\"])"
   ]
  },
  {
   "cell_type": "code",
   "execution_count": 32,
   "metadata": {},
   "outputs": [
    {
     "data": {
      "text/plain": [
       "<matplotlib.axes._subplots.AxesSubplot at 0x7f299892ccd0>"
      ]
     },
     "execution_count": 32,
     "metadata": {},
     "output_type": "execute_result"
    },
    {
     "data": {
      "image/png": "[encoded data removed]",
      "text/plain": [
       "<Figure size 432x288 with 1 Axes>"
      ]
     },
     "metadata": {
      "needs_background": "light"
     },
     "output_type": "display_data"
    }
   ],
   "source": [
    "sns.distplot(data[\"z\"])"
   ]
  },
  {
   "cell_type": "code",
   "execution_count": 33,
   "metadata": {},
   "outputs": [
    {
     "data": {
      "text/plain": [
       "<matplotlib.axes._subplots.AxesSubplot at 0x7f29986fc450>"
      ]
     },
     "execution_count": 33,
     "metadata": {},
     "output_type": "execute_result"
    },
    {
     "data": {
      "image/png": "[encoded data removed]",
      "text/plain": [
       "<Figure size 432x288 with 1 Axes>"
      ]
     },
     "metadata": {
      "needs_background": "light"
     },
     "output_type": "display_data"
    }
   ],
   "source": [
    "sns.distplot(data[\"price\"])"
   ]
  },
  {
   "cell_type": "markdown",
   "metadata": {},
   "source": [
    "Las gráficas no muestran gran cosa. Los datos siguen parcialmente una distribución normal. \n"
   ]
  },
  {
   "cell_type": "markdown",
   "metadata": {},
   "source": [
    "### Scatter plot de las variables con Price"
   ]
  },
  {
   "cell_type": "code",
   "execution_count": 34,
   "metadata": {},
   "outputs": [
    {
     "data": {
      "text/plain": [
       "<matplotlib.axes._subplots.AxesSubplot at 0x7f2998601c10>"
      ]
     },
     "execution_count": 34,
     "metadata": {},
     "output_type": "execute_result"
    },
    {
     "data": {
      "image/png": "[encoded data removed]",
      "text/plain": [
       "<Figure size 432x288 with 1 Axes>"
      ]
     },
     "metadata": {
      "needs_background": "light"
     },
     "output_type": "display_data"
    }
   ],
   "source": [
    "sns.scatterplot(x=\"carat\", y=\"price\", data=data)"
   ]
  },
  {
   "cell_type": "code",
   "execution_count": 35,
   "metadata": {},
   "outputs": [
    {
     "data": {
      "text/plain": [
       "<matplotlib.axes._subplots.AxesSubplot at 0x7f2998570d50>"
      ]
     },
     "execution_count": 35,
     "metadata": {},
     "output_type": "execute_result"
    },
    {
     "data": {
      "image/png": "[encoded data removed]",
      "text/plain": [
       "<Figure size 432x288 with 1 Axes>"
      ]
     },
     "metadata": {
      "needs_background": "light"
     },
     "output_type": "display_data"
    }
   ],
   "source": [
    "sns.scatterplot(x=\"depth\", y=\"price\", data=data)"
   ]
  },
  {
   "cell_type": "code",
   "execution_count": 36,
   "metadata": {},
   "outputs": [
    {
     "data": {
      "text/plain": [
       "<matplotlib.axes._subplots.AxesSubplot at 0x7f299850ce90>"
      ]
     },
     "execution_count": 36,
     "metadata": {},
     "output_type": "execute_result"
    },
    {
     "data": {
      "image/png": "[encoded data removed]",
      "text/plain": [
       "<Figure size 432x288 with 1 Axes>"
      ]
     },
     "metadata": {
      "needs_background": "light"
     },
     "output_type": "display_data"
    }
   ],
   "source": [
    "sns.scatterplot(x=\"table\", y=\"price\", data=data)"
   ]
  },
  {
   "cell_type": "code",
   "execution_count": 37,
   "metadata": {},
   "outputs": [
    {
     "data": {
      "text/plain": [
       "<matplotlib.axes._subplots.AxesSubplot at 0x7f2996c88fd0>"
      ]
     },
     "execution_count": 37,
     "metadata": {},
     "output_type": "execute_result"
    },
    {
     "data": {
      "image/png": "[encoded data removed]",
      "text/plain": [
       "<Figure size 432x288 with 1 Axes>"
      ]
     },
     "metadata": {
      "needs_background": "light"
     },
     "output_type": "display_data"
    }
   ],
   "source": [
    "sns.scatterplot(x=\"x\", y=\"price\", data=data)"
   ]
  },
  {
   "cell_type": "code",
   "execution_count": 38,
   "metadata": {},
   "outputs": [
    {
     "data": {
      "text/plain": [
       "<matplotlib.axes._subplots.AxesSubplot at 0x7f2996be1390>"
      ]
     },
     "execution_count": 38,
     "metadata": {},
     "output_type": "execute_result"
    },
    {
     "data": {
      "image/png": "[encoded data removed]",
      "text/plain": [
       "<Figure size 432x288 with 1 Axes>"
      ]
     },
     "metadata": {
      "needs_background": "light"
     },
     "output_type": "display_data"
    }
   ],
   "source": [
    "sns.scatterplot(x=\"y\", y=\"price\", data=data)"
   ]
  },
  {
   "cell_type": "code",
   "execution_count": 39,
   "metadata": {},
   "outputs": [
    {
     "data": {
      "text/plain": [
       "<matplotlib.axes._subplots.AxesSubplot at 0x7f2996bb6e90>"
      ]
     },
     "execution_count": 39,
     "metadata": {},
     "output_type": "execute_result"
    },
    {
     "data": {
      "image/png": "[encoded data removed]",
      "text/plain": [
       "<Figure size 432x288 with 1 Axes>"
      ]
     },
     "metadata": {
      "needs_background": "light"
     },
     "output_type": "display_data"
    }
   ],
   "source": [
    "sns.scatterplot(x=\"z\", y=\"price\", data=data)"
   ]
  },
  {
   "cell_type": "markdown",
   "metadata": {},
   "source": [
    "## Elimino variables correlación"
   ]
  },
  {
   "cell_type": "code",
   "execution_count": 40,
   "metadata": {},
   "outputs": [
    {
     "data": {
      "text/html": [
       "<div>\n",
       "<style scoped>\n",
       "    .dataframe tbody tr th:only-of-type {\n",
       "        vertical-align: middle;\n",
       "    }\n",
       "\n",
       "    .dataframe tbody tr th {\n",
       "        vertical-align: top;\n",
       "    }\n",
       "\n",
       "    .dataframe thead th {\n",
       "        text-align: right;\n",
       "    }\n",
       "</style>\n",
       "<table border=\"1\" class=\"dataframe\">\n",
       "  <thead>\n",
       "    <tr style=\"text-align: right;\">\n",
       "      <th></th>\n",
       "      <th>carat</th>\n",
       "      <th>depth</th>\n",
       "      <th>table</th>\n",
       "      <th>x</th>\n",
       "      <th>y</th>\n",
       "      <th>z</th>\n",
       "      <th>cut_Fair</th>\n",
       "      <th>cut_Good</th>\n",
       "      <th>cut_Ideal</th>\n",
       "      <th>cut_Premium</th>\n",
       "      <th>...</th>\n",
       "      <th>color_I</th>\n",
       "      <th>color_J</th>\n",
       "      <th>clarity_I1</th>\n",
       "      <th>clarity_IF</th>\n",
       "      <th>clarity_SI1</th>\n",
       "      <th>clarity_SI2</th>\n",
       "      <th>clarity_VS1</th>\n",
       "      <th>clarity_VS2</th>\n",
       "      <th>clarity_VVS1</th>\n",
       "      <th>clarity_VVS2</th>\n",
       "    </tr>\n",
       "  </thead>\n",
       "  <tbody>\n",
       "    <tr>\n",
       "      <th>carat</th>\n",
       "      <td>1.000000</td>\n",
       "      <td>-0.208675</td>\n",
       "      <td>0.035569</td>\n",
       "      <td>0.972270</td>\n",
       "      <td>0.948193</td>\n",
       "      <td>0.966945</td>\n",
       "      <td>0.077212</td>\n",
       "      <td>0.025781</td>\n",
       "      <td>-0.147073</td>\n",
       "      <td>0.112063</td>\n",
       "      <td>...</td>\n",
       "      <td>0.160763</td>\n",
       "      <td>0.180568</td>\n",
       "      <td>0.116244</td>\n",
       "      <td>-0.117358</td>\n",
       "      <td>0.059132</td>\n",
       "      <td>0.265842</td>\n",
       "      <td>-0.057828</td>\n",
       "      <td>-0.036959</td>\n",
       "      <td>-0.165021</td>\n",
       "      <td>-0.136463</td>\n",
       "    </tr>\n",
       "    <tr>\n",
       "      <th>depth</th>\n",
       "      <td>-0.208675</td>\n",
       "      <td>1.000000</td>\n",
       "      <td>-0.980494</td>\n",
       "      <td>-0.216661</td>\n",
       "      <td>-0.216520</td>\n",
       "      <td>-0.129677</td>\n",
       "      <td>0.007201</td>\n",
       "      <td>-0.071510</td>\n",
       "      <td>0.416661</td>\n",
       "      <td>-0.352411</td>\n",
       "      <td>...</td>\n",
       "      <td>-0.018910</td>\n",
       "      <td>-0.037718</td>\n",
       "      <td>-0.019666</td>\n",
       "      <td>0.058634</td>\n",
       "      <td>-0.023440</td>\n",
       "      <td>-0.095098</td>\n",
       "      <td>0.013511</td>\n",
       "      <td>0.008100</td>\n",
       "      <td>0.057173</td>\n",
       "      <td>0.050832</td>\n",
       "    </tr>\n",
       "    <tr>\n",
       "      <th>table</th>\n",
       "      <td>0.035569</td>\n",
       "      <td>-0.980494</td>\n",
       "      <td>1.000000</td>\n",
       "      <td>0.043361</td>\n",
       "      <td>0.030777</td>\n",
       "      <td>-0.044819</td>\n",
       "      <td>-0.032335</td>\n",
       "      <td>0.064293</td>\n",
       "      <td>-0.405504</td>\n",
       "      <td>0.350604</td>\n",
       "      <td>...</td>\n",
       "      <td>-0.008682</td>\n",
       "      <td>0.007379</td>\n",
       "      <td>-0.000756</td>\n",
       "      <td>-0.038915</td>\n",
       "      <td>0.013206</td>\n",
       "      <td>0.048415</td>\n",
       "      <td>-0.004343</td>\n",
       "      <td>-0.001005</td>\n",
       "      <td>-0.027515</td>\n",
       "      <td>-0.026778</td>\n",
       "    </tr>\n",
       "    <tr>\n",
       "      <th>x</th>\n",
       "      <td>0.972270</td>\n",
       "      <td>-0.216661</td>\n",
       "      <td>0.043361</td>\n",
       "      <td>1.000000</td>\n",
       "      <td>0.973610</td>\n",
       "      <td>0.984868</td>\n",
       "      <td>0.049164</td>\n",
       "      <td>0.005635</td>\n",
       "      <td>-0.111744</td>\n",
       "      <td>0.109905</td>\n",
       "      <td>...</td>\n",
       "      <td>0.145298</td>\n",
       "      <td>0.163453</td>\n",
       "      <td>0.099811</td>\n",
       "      <td>-0.124227</td>\n",
       "      <td>0.071532</td>\n",
       "      <td>0.263467</td>\n",
       "      <td>-0.052137</td>\n",
       "      <td>-0.032327</td>\n",
       "      <td>-0.178059</td>\n",
       "      <td>-0.143087</td>\n",
       "    </tr>\n",
       "    <tr>\n",
       "      <th>y</th>\n",
       "      <td>0.948193</td>\n",
       "      <td>-0.216520</td>\n",
       "      <td>0.030777</td>\n",
       "      <td>0.973610</td>\n",
       "      <td>1.000000</td>\n",
       "      <td>0.964960</td>\n",
       "      <td>0.038096</td>\n",
       "      <td>0.007577</td>\n",
       "      <td>-0.102832</td>\n",
       "      <td>0.091072</td>\n",
       "      <td>...</td>\n",
       "      <td>0.141404</td>\n",
       "      <td>0.159421</td>\n",
       "      <td>0.092255</td>\n",
       "      <td>-0.119140</td>\n",
       "      <td>0.068274</td>\n",
       "      <td>0.256372</td>\n",
       "      <td>-0.048699</td>\n",
       "      <td>-0.033080</td>\n",
       "      <td>-0.172130</td>\n",
       "      <td>-0.137559</td>\n",
       "    </tr>\n",
       "    <tr>\n",
       "      <th>z</th>\n",
       "      <td>0.966945</td>\n",
       "      <td>-0.129677</td>\n",
       "      <td>-0.044819</td>\n",
       "      <td>0.984868</td>\n",
       "      <td>0.964960</td>\n",
       "      <td>1.000000</td>\n",
       "      <td>0.078537</td>\n",
       "      <td>0.021070</td>\n",
       "      <td>-0.109800</td>\n",
       "      <td>0.075203</td>\n",
       "      <td>...</td>\n",
       "      <td>0.147067</td>\n",
       "      <td>0.166299</td>\n",
       "      <td>0.102099</td>\n",
       "      <td>-0.125775</td>\n",
       "      <td>0.075999</td>\n",
       "      <td>0.261503</td>\n",
       "      <td>-0.053623</td>\n",
       "      <td>-0.033707</td>\n",
       "      <td>-0.178210</td>\n",
       "      <td>-0.143127</td>\n",
       "    </tr>\n",
       "    <tr>\n",
       "      <th>cut_Fair</th>\n",
       "      <td>0.077212</td>\n",
       "      <td>0.007201</td>\n",
       "      <td>-0.032335</td>\n",
       "      <td>0.049164</td>\n",
       "      <td>0.038096</td>\n",
       "      <td>0.078537</td>\n",
       "      <td>1.000000</td>\n",
       "      <td>-0.055109</td>\n",
       "      <td>-0.143102</td>\n",
       "      <td>-0.102623</td>\n",
       "      <td>...</td>\n",
       "      <td>0.000979</td>\n",
       "      <td>0.020702</td>\n",
       "      <td>0.152248</td>\n",
       "      <td>-0.027841</td>\n",
       "      <td>0.003311</td>\n",
       "      <td>0.056544</td>\n",
       "      <td>-0.017712</td>\n",
       "      <td>-0.025757</td>\n",
       "      <td>-0.038589</td>\n",
       "      <td>-0.029500</td>\n",
       "    </tr>\n",
       "    <tr>\n",
       "      <th>cut_Good</th>\n",
       "      <td>0.025781</td>\n",
       "      <td>-0.071510</td>\n",
       "      <td>0.064293</td>\n",
       "      <td>0.005635</td>\n",
       "      <td>0.007577</td>\n",
       "      <td>0.021070</td>\n",
       "      <td>-0.055109</td>\n",
       "      <td>1.000000</td>\n",
       "      <td>-0.256814</td>\n",
       "      <td>-0.184168</td>\n",
       "      <td>...</td>\n",
       "      <td>0.003885</td>\n",
       "      <td>0.015586</td>\n",
       "      <td>0.018129</td>\n",
       "      <td>-0.031768</td>\n",
       "      <td>0.057561</td>\n",
       "      <td>0.044308</td>\n",
       "      <td>-0.020143</td>\n",
       "      <td>-0.023100</td>\n",
       "      <td>-0.036301</td>\n",
       "      <td>-0.039702</td>\n",
       "    </tr>\n",
       "    <tr>\n",
       "      <th>cut_Ideal</th>\n",
       "      <td>-0.147073</td>\n",
       "      <td>0.416661</td>\n",
       "      <td>-0.405504</td>\n",
       "      <td>-0.111744</td>\n",
       "      <td>-0.102832</td>\n",
       "      <td>-0.109800</td>\n",
       "      <td>-0.143102</td>\n",
       "      <td>-0.256814</td>\n",
       "      <td>1.000000</td>\n",
       "      <td>-0.478232</td>\n",
       "      <td>...</td>\n",
       "      <td>-0.006854</td>\n",
       "      <td>-0.036268</td>\n",
       "      <td>-0.049446</td>\n",
       "      <td>0.104420</td>\n",
       "      <td>-0.082219</td>\n",
       "      <td>-0.108818</td>\n",
       "      <td>0.034018</td>\n",
       "      <td>0.018320</td>\n",
       "      <td>0.085812</td>\n",
       "      <td>0.073643</td>\n",
       "    </tr>\n",
       "    <tr>\n",
       "      <th>cut_Premium</th>\n",
       "      <td>0.112063</td>\n",
       "      <td>-0.352411</td>\n",
       "      <td>0.350604</td>\n",
       "      <td>0.109905</td>\n",
       "      <td>0.091072</td>\n",
       "      <td>0.075203</td>\n",
       "      <td>-0.102623</td>\n",
       "      <td>-0.184168</td>\n",
       "      <td>-0.478232</td>\n",
       "      <td>1.000000</td>\n",
       "      <td>...</td>\n",
       "      <td>0.006119</td>\n",
       "      <td>0.017617</td>\n",
       "      <td>0.012007</td>\n",
       "      <td>-0.054713</td>\n",
       "      <td>0.018925</td>\n",
       "      <td>0.063161</td>\n",
       "      <td>-0.008371</td>\n",
       "      <td>0.026287</td>\n",
       "      <td>-0.051573</td>\n",
       "      <td>-0.062835</td>\n",
       "    </tr>\n",
       "    <tr>\n",
       "      <th>cut_Very Good</th>\n",
       "      <td>0.006422</td>\n",
       "      <td>-0.074770</td>\n",
       "      <td>0.078750</td>\n",
       "      <td>-0.007553</td>\n",
       "      <td>0.004839</td>\n",
       "      <td>0.003872</td>\n",
       "      <td>-0.094356</td>\n",
       "      <td>-0.169333</td>\n",
       "      <td>-0.439708</td>\n",
       "      <td>-0.315327</td>\n",
       "      <td>...</td>\n",
       "      <td>-0.001411</td>\n",
       "      <td>0.005045</td>\n",
       "      <td>-0.028950</td>\n",
       "      <td>-0.032277</td>\n",
       "      <td>0.035915</td>\n",
       "      <td>0.008325</td>\n",
       "      <td>-0.010157</td>\n",
       "      <td>-0.022635</td>\n",
       "      <td>-0.006232</td>\n",
       "      <td>0.018444</td>\n",
       "    </tr>\n",
       "    <tr>\n",
       "      <th>color_D</th>\n",
       "      <td>-0.110920</td>\n",
       "      <td>0.014118</td>\n",
       "      <td>0.005382</td>\n",
       "      <td>-0.103681</td>\n",
       "      <td>-0.101430</td>\n",
       "      <td>-0.104149</td>\n",
       "      <td>-0.012626</td>\n",
       "      <td>0.006140</td>\n",
       "      <td>0.017825</td>\n",
       "      <td>-0.023251</td>\n",
       "      <td>...</td>\n",
       "      <td>-0.127749</td>\n",
       "      <td>-0.088404</td>\n",
       "      <td>-0.022836</td>\n",
       "      <td>-0.049396</td>\n",
       "      <td>0.058131</td>\n",
       "      <td>0.031506</td>\n",
       "      <td>-0.049643</td>\n",
       "      <td>0.023679</td>\n",
       "      <td>-0.047088</td>\n",
       "      <td>-0.018493</td>\n",
       "    </tr>\n",
       "    <tr>\n",
       "      <th>color_E</th>\n",
       "      <td>-0.137908</td>\n",
       "      <td>-0.007891</td>\n",
       "      <td>0.032404</td>\n",
       "      <td>-0.133339</td>\n",
       "      <td>-0.129079</td>\n",
       "      <td>-0.135446</td>\n",
       "      <td>-0.017144</td>\n",
       "      <td>0.006241</td>\n",
       "      <td>-0.004647</td>\n",
       "      <td>-0.013468</td>\n",
       "      <td>...</td>\n",
       "      <td>-0.157845</td>\n",
       "      <td>-0.109231</td>\n",
       "      <td>-0.011219</td>\n",
       "      <td>-0.043325</td>\n",
       "      <td>0.006028</td>\n",
       "      <td>0.011434</td>\n",
       "      <td>-0.027358</td>\n",
       "      <td>0.023474</td>\n",
       "      <td>-0.002015</td>\n",
       "      <td>0.009249</td>\n",
       "    </tr>\n",
       "    <tr>\n",
       "      <th>color_F</th>\n",
       "      <td>-0.063691</td>\n",
       "      <td>-0.001548</td>\n",
       "      <td>0.011990</td>\n",
       "      <td>-0.051359</td>\n",
       "      <td>-0.050067</td>\n",
       "      <td>-0.052647</td>\n",
       "      <td>0.007447</td>\n",
       "      <td>0.008182</td>\n",
       "      <td>-0.000893</td>\n",
       "      <td>-0.007833</td>\n",
       "      <td>...</td>\n",
       "      <td>-0.155741</td>\n",
       "      <td>-0.107775</td>\n",
       "      <td>0.006556</td>\n",
       "      <td>0.017688</td>\n",
       "      <td>-0.023060</td>\n",
       "      <td>-0.000534</td>\n",
       "      <td>-0.008359</td>\n",
       "      <td>0.001675</td>\n",
       "      <td>0.015737</td>\n",
       "      <td>0.015115</td>\n",
       "    </tr>\n",
       "    <tr>\n",
       "      <th>color_G</th>\n",
       "      <td>-0.028165</td>\n",
       "      <td>0.035038</td>\n",
       "      <td>-0.030535</td>\n",
       "      <td>-0.022019</td>\n",
       "      <td>-0.022071</td>\n",
       "      <td>-0.022167</td>\n",
       "      <td>-0.008991</td>\n",
       "      <td>-0.024161</td>\n",
       "      <td>0.034866</td>\n",
       "      <td>0.000285</td>\n",
       "      <td>...</td>\n",
       "      <td>-0.173129</td>\n",
       "      <td>-0.119808</td>\n",
       "      <td>-0.001905</td>\n",
       "      <td>0.076109</td>\n",
       "      <td>-0.077272</td>\n",
       "      <td>-0.045777</td>\n",
       "      <td>0.052585</td>\n",
       "      <td>-0.026020</td>\n",
       "      <td>0.043021</td>\n",
       "      <td>0.061374</td>\n",
       "    </tr>\n",
       "    <tr>\n",
       "      <th>color_H</th>\n",
       "      <td>0.103408</td>\n",
       "      <td>-0.003593</td>\n",
       "      <td>-0.014989</td>\n",
       "      <td>0.095300</td>\n",
       "      <td>0.093100</td>\n",
       "      <td>0.096286</td>\n",
       "      <td>0.018710</td>\n",
       "      <td>-0.006482</td>\n",
       "      <td>-0.021950</td>\n",
       "      <td>0.027848</td>\n",
       "      <td>...</td>\n",
       "      <td>-0.143201</td>\n",
       "      <td>-0.099097</td>\n",
       "      <td>0.016897</td>\n",
       "      <td>0.008945</td>\n",
       "      <td>0.031643</td>\n",
       "      <td>0.015731</td>\n",
       "      <td>-0.012513</td>\n",
       "      <td>-0.024486</td>\n",
       "      <td>0.005531</td>\n",
       "      <td>-0.033016</td>\n",
       "    </tr>\n",
       "    <tr>\n",
       "      <th>color_I</th>\n",
       "      <td>0.160763</td>\n",
       "      <td>-0.018910</td>\n",
       "      <td>-0.008682</td>\n",
       "      <td>0.145298</td>\n",
       "      <td>0.141404</td>\n",
       "      <td>0.147067</td>\n",
       "      <td>0.000979</td>\n",
       "      <td>0.003885</td>\n",
       "      <td>-0.006854</td>\n",
       "      <td>0.006119</td>\n",
       "      <td>...</td>\n",
       "      <td>1.000000</td>\n",
       "      <td>-0.078152</td>\n",
       "      <td>0.008463</td>\n",
       "      <td>-0.011247</td>\n",
       "      <td>0.011459</td>\n",
       "      <td>-0.004266</td>\n",
       "      <td>0.025635</td>\n",
       "      <td>-0.006449</td>\n",
       "      <td>-0.002232</td>\n",
       "      <td>-0.027852</td>\n",
       "    </tr>\n",
       "    <tr>\n",
       "      <th>color_J</th>\n",
       "      <td>0.180568</td>\n",
       "      <td>-0.037718</td>\n",
       "      <td>0.007379</td>\n",
       "      <td>0.163453</td>\n",
       "      <td>0.159421</td>\n",
       "      <td>0.166299</td>\n",
       "      <td>0.020702</td>\n",
       "      <td>0.015586</td>\n",
       "      <td>-0.036268</td>\n",
       "      <td>0.017617</td>\n",
       "      <td>...</td>\n",
       "      <td>-0.078152</td>\n",
       "      <td>1.000000</td>\n",
       "      <td>0.006924</td>\n",
       "      <td>-0.020330</td>\n",
       "      <td>0.017031</td>\n",
       "      <td>-0.001852</td>\n",
       "      <td>0.025238</td>\n",
       "      <td>0.017380</td>\n",
       "      <td>-0.038182</td>\n",
       "      <td>-0.035596</td>\n",
       "    </tr>\n",
       "    <tr>\n",
       "      <th>clarity_I1</th>\n",
       "      <td>0.116244</td>\n",
       "      <td>-0.019666</td>\n",
       "      <td>-0.000756</td>\n",
       "      <td>0.099811</td>\n",
       "      <td>0.092255</td>\n",
       "      <td>0.102099</td>\n",
       "      <td>0.152248</td>\n",
       "      <td>0.018129</td>\n",
       "      <td>-0.049446</td>\n",
       "      <td>0.012007</td>\n",
       "      <td>...</td>\n",
       "      <td>0.008463</td>\n",
       "      <td>0.006924</td>\n",
       "      <td>1.000000</td>\n",
       "      <td>-0.022154</td>\n",
       "      <td>-0.066854</td>\n",
       "      <td>-0.053861</td>\n",
       "      <td>-0.050079</td>\n",
       "      <td>-0.064376</td>\n",
       "      <td>-0.032041</td>\n",
       "      <td>-0.038508</td>\n",
       "    </tr>\n",
       "    <tr>\n",
       "      <th>clarity_IF</th>\n",
       "      <td>-0.117358</td>\n",
       "      <td>0.058634</td>\n",
       "      <td>-0.038915</td>\n",
       "      <td>-0.124227</td>\n",
       "      <td>-0.119140</td>\n",
       "      <td>-0.125775</td>\n",
       "      <td>-0.027841</td>\n",
       "      <td>-0.031768</td>\n",
       "      <td>0.104420</td>\n",
       "      <td>-0.054713</td>\n",
       "      <td>...</td>\n",
       "      <td>-0.011247</td>\n",
       "      <td>-0.020330</td>\n",
       "      <td>-0.022154</td>\n",
       "      <td>1.000000</td>\n",
       "      <td>-0.105033</td>\n",
       "      <td>-0.084620</td>\n",
       "      <td>-0.078678</td>\n",
       "      <td>-0.101140</td>\n",
       "      <td>-0.050339</td>\n",
       "      <td>-0.060499</td>\n",
       "    </tr>\n",
       "    <tr>\n",
       "      <th>clarity_SI1</th>\n",
       "      <td>0.059132</td>\n",
       "      <td>-0.023440</td>\n",
       "      <td>0.013206</td>\n",
       "      <td>0.071532</td>\n",
       "      <td>0.068274</td>\n",
       "      <td>0.075999</td>\n",
       "      <td>0.003311</td>\n",
       "      <td>0.057561</td>\n",
       "      <td>-0.082219</td>\n",
       "      <td>0.018925</td>\n",
       "      <td>...</td>\n",
       "      <td>0.011459</td>\n",
       "      <td>0.017031</td>\n",
       "      <td>-0.066854</td>\n",
       "      <td>-0.105033</td>\n",
       "      <td>1.000000</td>\n",
       "      <td>-0.255359</td>\n",
       "      <td>-0.237428</td>\n",
       "      <td>-0.305210</td>\n",
       "      <td>-0.151909</td>\n",
       "      <td>-0.182569</td>\n",
       "    </tr>\n",
       "    <tr>\n",
       "      <th>clarity_SI2</th>\n",
       "      <td>0.265842</td>\n",
       "      <td>-0.095098</td>\n",
       "      <td>0.048415</td>\n",
       "      <td>0.263467</td>\n",
       "      <td>0.256372</td>\n",
       "      <td>0.261503</td>\n",
       "      <td>0.056544</td>\n",
       "      <td>0.044308</td>\n",
       "      <td>-0.108818</td>\n",
       "      <td>0.063161</td>\n",
       "      <td>...</td>\n",
       "      <td>-0.004266</td>\n",
       "      <td>-0.001852</td>\n",
       "      <td>-0.053861</td>\n",
       "      <td>-0.084620</td>\n",
       "      <td>-0.255359</td>\n",
       "      <td>1.000000</td>\n",
       "      <td>-0.191285</td>\n",
       "      <td>-0.245894</td>\n",
       "      <td>-0.122386</td>\n",
       "      <td>-0.147088</td>\n",
       "    </tr>\n",
       "    <tr>\n",
       "      <th>clarity_VS1</th>\n",
       "      <td>-0.057828</td>\n",
       "      <td>0.013511</td>\n",
       "      <td>-0.004343</td>\n",
       "      <td>-0.052137</td>\n",
       "      <td>-0.048699</td>\n",
       "      <td>-0.053623</td>\n",
       "      <td>-0.017712</td>\n",
       "      <td>-0.020143</td>\n",
       "      <td>0.034018</td>\n",
       "      <td>-0.008371</td>\n",
       "      <td>...</td>\n",
       "      <td>0.025635</td>\n",
       "      <td>0.025238</td>\n",
       "      <td>-0.050079</td>\n",
       "      <td>-0.078678</td>\n",
       "      <td>-0.237428</td>\n",
       "      <td>-0.191285</td>\n",
       "      <td>1.000000</td>\n",
       "      <td>-0.228627</td>\n",
       "      <td>-0.113792</td>\n",
       "      <td>-0.136760</td>\n",
       "    </tr>\n",
       "    <tr>\n",
       "      <th>clarity_VS2</th>\n",
       "      <td>-0.036959</td>\n",
       "      <td>0.008100</td>\n",
       "      <td>-0.001005</td>\n",
       "      <td>-0.032327</td>\n",
       "      <td>-0.033080</td>\n",
       "      <td>-0.033707</td>\n",
       "      <td>-0.025757</td>\n",
       "      <td>-0.023100</td>\n",
       "      <td>0.018320</td>\n",
       "      <td>0.026287</td>\n",
       "      <td>...</td>\n",
       "      <td>-0.006449</td>\n",
       "      <td>0.017380</td>\n",
       "      <td>-0.064376</td>\n",
       "      <td>-0.101140</td>\n",
       "      <td>-0.305210</td>\n",
       "      <td>-0.245894</td>\n",
       "      <td>-0.228627</td>\n",
       "      <td>1.000000</td>\n",
       "      <td>-0.146278</td>\n",
       "      <td>-0.175802</td>\n",
       "    </tr>\n",
       "    <tr>\n",
       "      <th>clarity_VVS1</th>\n",
       "      <td>-0.165021</td>\n",
       "      <td>0.057173</td>\n",
       "      <td>-0.027515</td>\n",
       "      <td>-0.178059</td>\n",
       "      <td>-0.172130</td>\n",
       "      <td>-0.178210</td>\n",
       "      <td>-0.038589</td>\n",
       "      <td>-0.036301</td>\n",
       "      <td>0.085812</td>\n",
       "      <td>-0.051573</td>\n",
       "      <td>...</td>\n",
       "      <td>-0.002232</td>\n",
       "      <td>-0.038182</td>\n",
       "      <td>-0.032041</td>\n",
       "      <td>-0.050339</td>\n",
       "      <td>-0.151909</td>\n",
       "      <td>-0.122386</td>\n",
       "      <td>-0.113792</td>\n",
       "      <td>-0.146278</td>\n",
       "      <td>1.000000</td>\n",
       "      <td>-0.087500</td>\n",
       "    </tr>\n",
       "    <tr>\n",
       "      <th>clarity_VVS2</th>\n",
       "      <td>-0.136463</td>\n",
       "      <td>0.050832</td>\n",
       "      <td>-0.026778</td>\n",
       "      <td>-0.143087</td>\n",
       "      <td>-0.137559</td>\n",
       "      <td>-0.143127</td>\n",
       "      <td>-0.029500</td>\n",
       "      <td>-0.039702</td>\n",
       "      <td>0.073643</td>\n",
       "      <td>-0.062835</td>\n",
       "      <td>...</td>\n",
       "      <td>-0.027852</td>\n",
       "      <td>-0.035596</td>\n",
       "      <td>-0.038508</td>\n",
       "      <td>-0.060499</td>\n",
       "      <td>-0.182569</td>\n",
       "      <td>-0.147088</td>\n",
       "      <td>-0.136760</td>\n",
       "      <td>-0.175802</td>\n",
       "      <td>-0.087500</td>\n",
       "      <td>1.000000</td>\n",
       "    </tr>\n",
       "  </tbody>\n",
       "</table>\n",
       "<p>26 rows × 26 columns</p>\n",
       "</div>"
      ],
      "text/plain": [
       "                  carat     depth     table         x         y         z  \\\n",
       "carat          1.000000 -0.208675  0.035569  0.972270  0.948193  0.966945   \n",
       "depth         -0.208675  1.000000 -0.980494 -0.216661 -0.216520 -0.129677   \n",
       "table          0.035569 -0.980494  1.000000  0.043361  0.030777 -0.044819   \n",
       "x              0.972270 -0.216661  0.043361  1.000000  0.973610  0.984868   \n",
       "y              0.948193 -0.216520  0.030777  0.973610  1.000000  0.964960   \n",
       "z              0.966945 -0.129677 -0.044819  0.984868  0.964960  1.000000   \n",
       "cut_Fair       0.077212  0.007201 -0.032335  0.049164  0.038096  0.078537   \n",
       "cut_Good       0.025781 -0.071510  0.064293  0.005635  0.007577  0.021070   \n",
       "cut_Ideal     -0.147073  0.416661 -0.405504 -0.111744 -0.102832 -0.109800   \n",
       "cut_Premium    0.112063 -0.352411  0.350604  0.109905  0.091072  0.075203   \n",
       "cut_Very Good  0.006422 -0.074770  0.078750 -0.007553  0.004839  0.003872   \n",
       "color_D       -0.110920  0.014118  0.005382 -0.103681 -0.101430 -0.104149   \n",
       "color_E       -0.137908 -0.007891  0.032404 -0.133339 -0.129079 -0.135446   \n",
       "color_F       -0.063691 -0.001548  0.011990 -0.051359 -0.050067 -0.052647   \n",
       "color_G       -0.028165  0.035038 -0.030535 -0.022019 -0.022071 -0.022167   \n",
       "color_H        0.103408 -0.003593 -0.014989  0.095300  0.093100  0.096286   \n",
       "color_I        0.160763 -0.018910 -0.008682  0.145298  0.141404  0.147067   \n",
       "color_J        0.180568 -0.037718  0.007379  0.163453  0.159421  0.166299   \n",
       "clarity_I1     0.116244 -0.019666 -0.000756  0.099811  0.092255  0.102099   \n",
       "clarity_IF    -0.117358  0.058634 -0.038915 -0.124227 -0.119140 -0.125775   \n",
       "clarity_SI1    0.059132 -0.023440  0.013206  0.071532  0.068274  0.075999   \n",
       "clarity_SI2    0.265842 -0.095098  0.048415  0.263467  0.256372  0.261503   \n",
       "clarity_VS1   -0.057828  0.013511 -0.004343 -0.052137 -0.048699 -0.053623   \n",
       "clarity_VS2   -0.036959  0.008100 -0.001005 -0.032327 -0.033080 -0.033707   \n",
       "clarity_VVS1  -0.165021  0.057173 -0.027515 -0.178059 -0.172130 -0.178210   \n",
       "clarity_VVS2  -0.136463  0.050832 -0.026778 -0.143087 -0.137559 -0.143127   \n",
       "\n",
       "               cut_Fair  cut_Good  cut_Ideal  cut_Premium  ...   color_I  \\\n",
       "carat          0.077212  0.025781  -0.147073     0.112063  ...  0.160763   \n",
       "depth          0.007201 -0.071510   0.416661    -0.352411  ... -0.018910   \n",
       "table         -0.032335  0.064293  -0.405504     0.350604  ... -0.008682   \n",
       "x              0.049164  0.005635  -0.111744     0.109905  ...  0.145298   \n",
       "y              0.038096  0.007577  -0.102832     0.091072  ...  0.141404   \n",
       "z              0.078537  0.021070  -0.109800     0.075203  ...  0.147067   \n",
       "cut_Fair       1.000000 -0.055109  -0.143102    -0.102623  ...  0.000979   \n",
       "cut_Good      -0.055109  1.000000  -0.256814    -0.184168  ...  0.003885   \n",
       "cut_Ideal     -0.143102 -0.256814   1.000000    -0.478232  ... -0.006854   \n",
       "cut_Premium   -0.102623 -0.184168  -0.478232     1.000000  ...  0.006119   \n",
       "cut_Very Good -0.094356 -0.169333  -0.439708    -0.315327  ... -0.001411   \n",
       "color_D       -0.012626  0.006140   0.017825    -0.023251  ... -0.127749   \n",
       "color_E       -0.017144  0.006241  -0.004647    -0.013468  ... -0.157845   \n",
       "color_F        0.007447  0.008182  -0.000893    -0.007833  ... -0.155741   \n",
       "color_G       -0.008991 -0.024161   0.034866     0.000285  ... -0.173129   \n",
       "color_H        0.018710 -0.006482  -0.021950     0.027848  ... -0.143201   \n",
       "color_I        0.000979  0.003885  -0.006854     0.006119  ...  1.000000   \n",
       "color_J        0.020702  0.015586  -0.036268     0.017617  ... -0.078152   \n",
       "clarity_I1     0.152248  0.018129  -0.049446     0.012007  ...  0.008463   \n",
       "clarity_IF    -0.027841 -0.031768   0.104420    -0.054713  ... -0.011247   \n",
       "clarity_SI1    0.003311  0.057561  -0.082219     0.018925  ...  0.011459   \n",
       "clarity_SI2    0.056544  0.044308  -0.108818     0.063161  ... -0.004266   \n",
       "clarity_VS1   -0.017712 -0.020143   0.034018    -0.008371  ...  0.025635   \n",
       "clarity_VS2   -0.025757 -0.023100   0.018320     0.026287  ... -0.006449   \n",
       "clarity_VVS1  -0.038589 -0.036301   0.085812    -0.051573  ... -0.002232   \n",
       "clarity_VVS2  -0.029500 -0.039702   0.073643    -0.062835  ... -0.027852   \n",
       "\n",
       "                color_J  clarity_I1  clarity_IF  clarity_SI1  clarity_SI2  \\\n",
       "carat          0.180568    0.116244   -0.117358     0.059132     0.265842   \n",
       "depth         -0.037718   -0.019666    0.058634    -0.023440    -0.095098   \n",
       "table          0.007379   -0.000756   -0.038915     0.013206     0.048415   \n",
       "x              0.163453    0.099811   -0.124227     0.071532     0.263467   \n",
       "y              0.159421    0.092255   -0.119140     0.068274     0.256372   \n",
       "z              0.166299    0.102099   -0.125775     0.075999     0.261503   \n",
       "cut_Fair       0.020702    0.152248   -0.027841     0.003311     0.056544   \n",
       "cut_Good       0.015586    0.018129   -0.031768     0.057561     0.044308   \n",
       "cut_Ideal     -0.036268   -0.049446    0.104420    -0.082219    -0.108818   \n",
       "cut_Premium    0.017617    0.012007   -0.054713     0.018925     0.063161   \n",
       "cut_Very Good  0.005045   -0.028950   -0.032277     0.035915     0.008325   \n",
       "color_D       -0.088404   -0.022836   -0.049396     0.058131     0.031506   \n",
       "color_E       -0.109231   -0.011219   -0.043325     0.006028     0.011434   \n",
       "color_F       -0.107775    0.006556    0.017688    -0.023060    -0.000534   \n",
       "color_G       -0.119808   -0.001905    0.076109    -0.077272    -0.045777   \n",
       "color_H       -0.099097    0.016897    0.008945     0.031643     0.015731   \n",
       "color_I       -0.078152    0.008463   -0.011247     0.011459    -0.004266   \n",
       "color_J        1.000000    0.006924   -0.020330     0.017031    -0.001852   \n",
       "clarity_I1     0.006924    1.000000   -0.022154    -0.066854    -0.053861   \n",
       "clarity_IF    -0.020330   -0.022154    1.000000    -0.105033    -0.084620   \n",
       "clarity_SI1    0.017031   -0.066854   -0.105033     1.000000    -0.255359   \n",
       "clarity_SI2   -0.001852   -0.053861   -0.084620    -0.255359     1.000000   \n",
       "clarity_VS1    0.025238   -0.050079   -0.078678    -0.237428    -0.191285   \n",
       "clarity_VS2    0.017380   -0.064376   -0.101140    -0.305210    -0.245894   \n",
       "clarity_VVS1  -0.038182   -0.032041   -0.050339    -0.151909    -0.122386   \n",
       "clarity_VVS2  -0.035596   -0.038508   -0.060499    -0.182569    -0.147088   \n",
       "\n",
       "               clarity_VS1  clarity_VS2  clarity_VVS1  clarity_VVS2  \n",
       "carat            -0.057828    -0.036959     -0.165021     -0.136463  \n",
       "depth             0.013511     0.008100      0.057173      0.050832  \n",
       "table            -0.004343    -0.001005     -0.027515     -0.026778  \n",
       "x                -0.052137    -0.032327     -0.178059     -0.143087  \n",
       "y                -0.048699    -0.033080     -0.172130     -0.137559  \n",
       "z                -0.053623    -0.033707     -0.178210     -0.143127  \n",
       "cut_Fair         -0.017712    -0.025757     -0.038589     -0.029500  \n",
       "cut_Good         -0.020143    -0.023100     -0.036301     -0.039702  \n",
       "cut_Ideal         0.034018     0.018320      0.085812      0.073643  \n",
       "cut_Premium      -0.008371     0.026287     -0.051573     -0.062835  \n",
       "cut_Very Good    -0.010157    -0.022635     -0.006232      0.018444  \n",
       "color_D          -0.049643     0.023679     -0.047088     -0.018493  \n",
       "color_E          -0.027358     0.023474     -0.002015      0.009249  \n",
       "color_F          -0.008359     0.001675      0.015737      0.015115  \n",
       "color_G           0.052585    -0.026020      0.043021      0.061374  \n",
       "color_H          -0.012513    -0.024486      0.005531     -0.033016  \n",
       "color_I           0.025635    -0.006449     -0.002232     -0.027852  \n",
       "color_J           0.025238     0.017380     -0.038182     -0.035596  \n",
       "clarity_I1       -0.050079    -0.064376     -0.032041     -0.038508  \n",
       "clarity_IF       -0.078678    -0.101140     -0.050339     -0.060499  \n",
       "clarity_SI1      -0.237428    -0.305210     -0.151909     -0.182569  \n",
       "clarity_SI2      -0.191285    -0.245894     -0.122386     -0.147088  \n",
       "clarity_VS1       1.000000    -0.228627     -0.113792     -0.136760  \n",
       "clarity_VS2      -0.228627     1.000000     -0.146278     -0.175802  \n",
       "clarity_VVS1     -0.113792    -0.146278      1.000000     -0.087500  \n",
       "clarity_VVS2     -0.136760    -0.175802     -0.087500      1.000000  \n",
       "\n",
       "[26 rows x 26 columns]"
      ]
     },
     "execution_count": 40,
     "metadata": {},
     "output_type": "execute_result"
    }
   ],
   "source": [
    "correlation_matrix = data.drop(\"price\", axis=1).corr()\n",
    "\n",
    "correlation_matrix"
   ]
  },
  {
   "cell_type": "code",
   "execution_count": 41,
   "metadata": {},
   "outputs": [
    {
     "data": {
      "text/plain": [
       "{'table', 'x', 'y', 'z'}"
      ]
     },
     "execution_count": 41,
     "metadata": {},
     "output_type": "execute_result"
    }
   ],
   "source": [
    "correlated_features = set()\n",
    "\n",
    "for i in range(len(correlation_matrix.columns)):\n",
    "    for j in range(i):\n",
    "        if abs(correlation_matrix.iloc[i, j]) >= 0.9:\n",
    "            colname = correlation_matrix.columns[i]\n",
    "            correlated_features.add(colname)\n",
    "\n",
    "correlated_features "
   ]
  },
  {
   "cell_type": "code",
   "execution_count": 42,
   "metadata": {},
   "outputs": [
    {
     "data": {
      "text/plain": [
       "'corr = data.corr()\\nmask = np.triu(np.ones_like(corr, dtype=np.bool))\\nf, ax = plt.subplots(figsize=(11, 9))\\ncmap = sns.diverging_palette(220, 10, as_cmap=True)\\nsns.heatmap(corr, mask=mask, cmap=cmap, vmax=.3, center=0,\\n            square=True, linewidths=.5, cbar_kws={\"shrink\": .5}, annot=True);'"
      ]
     },
     "execution_count": 42,
     "metadata": {},
     "output_type": "execute_result"
    }
   ],
   "source": [
    "\"\"\"corr = data.corr()\n",
    "mask = np.triu(np.ones_like(corr, dtype=np.bool))\n",
    "f, ax = plt.subplots(figsize=(11, 9))\n",
    "cmap = sns.diverging_palette(220, 10, as_cmap=True)\n",
    "sns.heatmap(corr, mask=mask, cmap=cmap, vmax=.3, center=0,\n",
    "            square=True, linewidths=.5, cbar_kws={\"shrink\": .5}, annot=True);\"\"\""
   ]
  },
  {
   "cell_type": "code",
   "execution_count": 43,
   "metadata": {},
   "outputs": [
    {
     "data": {
      "text/plain": [
       "<matplotlib.axes._subplots.AxesSubplot at 0x7f29ac23bb10>"
      ]
     },
     "execution_count": 43,
     "metadata": {},
     "output_type": "execute_result"
    },
    {
     "data": {
      "image/png": "[encoded data removed]",
      "text/plain": [
       "<Figure size 432x288 with 2 Axes>"
      ]
     },
     "metadata": {
      "needs_background": "light"
     },
     "output_type": "display_data"
    }
   ],
   "source": [
    "sns.heatmap(data.corr())"
   ]
  },
  {
   "cell_type": "markdown",
   "metadata": {},
   "source": [
    "## Modelización Random Forest"
   ]
  },
  {
   "cell_type": "code",
   "execution_count": 45,
   "metadata": {},
   "outputs": [],
   "source": [
    "data_prueba = data.drop(correlated_features, axis=1)"
   ]
  },
  {
   "cell_type": "code",
   "execution_count": 46,
   "metadata": {},
   "outputs": [],
   "source": [
    "data.to_csv(\"../output/clean_diamonds2.csv\", index=False)"
   ]
  },
  {
   "cell_type": "code",
   "execution_count": 47,
   "metadata": {},
   "outputs": [],
   "source": [
    "X = data_prueba.drop(\"price\", axis=1)\n",
    "y = data_prueba[\"price\"]"
   ]
  },
  {
   "cell_type": "code",
   "execution_count": 48,
   "metadata": {},
   "outputs": [],
   "source": [
    "X_train, X_test, y_train, y_test = train_test_split(X, y, test_size=0.2, random_state=42)"
   ]
  },
  {
   "cell_type": "code",
   "execution_count": 143,
   "metadata": {},
   "outputs": [],
   "source": [
    "rf = RandomForestRegressor(n_estimators=15, max_depth=3, min_samples_leaf=3, random_state=111)"
   ]
  },
  {
   "cell_type": "code",
   "execution_count": 144,
   "metadata": {},
   "outputs": [
    {
     "data": {
      "text/plain": [
       "RandomForestRegressor(bootstrap=True, ccp_alpha=0.0, criterion='mse',\n",
       "                      max_depth=3, max_features='auto', max_leaf_nodes=None,\n",
       "                      max_samples=None, min_impurity_decrease=0.0,\n",
       "                      min_impurity_split=None, min_samples_leaf=3,\n",
       "                      min_samples_split=2, min_weight_fraction_leaf=0.0,\n",
       "                      n_estimators=15, n_jobs=None, oob_score=False,\n",
       "                      random_state=111, verbose=0, warm_start=False)"
      ]
     },
     "execution_count": 144,
     "metadata": {},
     "output_type": "execute_result"
    }
   ],
   "source": [
    "rf.fit(X_train, y_train)"
   ]
  },
  {
   "cell_type": "code",
   "execution_count": 145,
   "metadata": {},
   "outputs": [
    {
     "name": "stdout",
     "output_type": "stream",
     "text": [
      "METRIC SUMMARY\n",
      "MSE 1900440.4548011345\n",
      "RMSE 1378.5646356994419\n",
      "MSLE 0.07378144171497002\n",
      "MAE 786.8225454874491\n",
      "R2 0.8787104887846688\n"
     ]
    }
   ],
   "source": [
    "print('METRIC SUMMARY')\n",
    "print('MSE', mean_squared_error(y_test, rf.predict(X_test)))\n",
    "print('RMSE', np.sqrt(mean_squared_error(y_test, rf.predict(X_test))))\n",
    "print('MSLE', mean_squared_log_error(y_test, rf.predict(X_test)))\n",
    "print('MAE', mean_absolute_error(y_test, rf.predict(X_test)))\n",
    "print('R2', r2_score(y_test, rf.predict(X_test)))"
   ]
  },
  {
   "cell_type": "code",
   "execution_count": 146,
   "metadata": {},
   "outputs": [],
   "source": [
    "rf = RandomForestRegressor(n_estimators=200,\n",
    " min_samples_split=5,\n",
    " min_samples_leaf=4,\n",
    " max_features='auto',\n",
    " max_depth=10,\n",
    " bootstrap=True)"
   ]
  },
  {
   "cell_type": "code",
   "execution_count": 147,
   "metadata": {},
   "outputs": [
    {
     "data": {
      "text/plain": [
       "RandomForestRegressor(bootstrap=True, ccp_alpha=0.0, criterion='mse',\n",
       "                      max_depth=10, max_features='auto', max_leaf_nodes=None,\n",
       "                      max_samples=None, min_impurity_decrease=0.0,\n",
       "                      min_impurity_split=None, min_samples_leaf=4,\n",
       "                      min_samples_split=5, min_weight_fraction_leaf=0.0,\n",
       "                      n_estimators=200, n_jobs=None, oob_score=False,\n",
       "                      random_state=None, verbose=0, warm_start=False)"
      ]
     },
     "execution_count": 147,
     "metadata": {},
     "output_type": "execute_result"
    }
   ],
   "source": [
    "rf.fit(X_train, y_train)"
   ]
  },
  {
   "cell_type": "code",
   "execution_count": 148,
   "metadata": {},
   "outputs": [
    {
     "name": "stdout",
     "output_type": "stream",
     "text": [
      "METRIC SUMMARY\n",
      "MSE 427645.77654308244\n",
      "RMSE 653.9463101379826\n",
      "MSLE 0.018928802491029666\n",
      "MAE 358.51697744895336\n",
      "R2 0.9727068811447508\n"
     ]
    }
   ],
   "source": [
    "print('METRIC SUMMARY')\n",
    "print('MSE', mean_squared_error(y_test, rf.predict(X_test)))\n",
    "print('RMSE', np.sqrt(mean_squared_error(y_test, rf.predict(X_test))))\n",
    "print('MSLE', mean_squared_log_error(y_test, rf.predict(X_test)))\n",
    "print('MAE', mean_absolute_error(y_test, rf.predict(X_test)))\n",
    "print('R2', r2_score(y_test, rf.predict(X_test)))"
   ]
  },
  {
   "cell_type": "markdown",
   "metadata": {},
   "source": [
    "### Sin eliminar las variables"
   ]
  },
  {
   "cell_type": "code",
   "execution_count": 149,
   "metadata": {},
   "outputs": [],
   "source": [
    "X = data.drop(\"price\", axis=1)\n",
    "y = data[\"price\"]"
   ]
  },
  {
   "cell_type": "code",
   "execution_count": 150,
   "metadata": {},
   "outputs": [],
   "source": [
    "X_train, X_test, y_train, y_test = train_test_split(X, y, test_size=0.2, random_state=42)"
   ]
  },
  {
   "cell_type": "code",
   "execution_count": 151,
   "metadata": {},
   "outputs": [],
   "source": [
    "rf = RandomForestRegressor(n_estimators=200,\n",
    " min_samples_split=5,\n",
    " min_samples_leaf=4,\n",
    " max_features='auto',\n",
    " max_depth=10,\n",
    " bootstrap=True)"
   ]
  },
  {
   "cell_type": "code",
   "execution_count": 152,
   "metadata": {},
   "outputs": [
    {
     "data": {
      "text/plain": [
       "RandomForestRegressor(bootstrap=True, ccp_alpha=0.0, criterion='mse',\n",
       "                      max_depth=10, max_features='auto', max_leaf_nodes=None,\n",
       "                      max_samples=None, min_impurity_decrease=0.0,\n",
       "                      min_impurity_split=None, min_samples_leaf=4,\n",
       "                      min_samples_split=5, min_weight_fraction_leaf=0.0,\n",
       "                      n_estimators=200, n_jobs=None, oob_score=False,\n",
       "                      random_state=None, verbose=0, warm_start=False)"
      ]
     },
     "execution_count": 152,
     "metadata": {},
     "output_type": "execute_result"
    }
   ],
   "source": [
    "rf.fit(X_train, y_train)"
   ]
  },
  {
   "cell_type": "code",
   "execution_count": 153,
   "metadata": {},
   "outputs": [
    {
     "name": "stdout",
     "output_type": "stream",
     "text": [
      "METRIC SUMMARY\n",
      "MSE 430156.5753316074\n",
      "RMSE 655.8632291351661\n",
      "MSLE 0.018742065293460397\n",
      "MAE 358.4521412232578\n",
      "R2 0.9725466374722638\n"
     ]
    }
   ],
   "source": [
    "print('METRIC SUMMARY')\n",
    "print('MSE', mean_squared_error(y_test, rf.predict(X_test)))\n",
    "print('RMSE', np.sqrt(mean_squared_error(y_test, rf.predict(X_test))))\n",
    "print('MSLE', mean_squared_log_error(y_test, rf.predict(X_test)))\n",
    "print('MAE', mean_absolute_error(y_test, rf.predict(X_test)))\n",
    "print('R2', r2_score(y_test, rf.predict(X_test)))"
   ]
  },
  {
   "cell_type": "markdown",
   "metadata": {},
   "source": [
    "## General Additive Models"
   ]
  },
  {
   "cell_type": "code",
   "execution_count": 154,
   "metadata": {},
   "outputs": [
    {
     "data": {
      "text/plain": [
       "GAM(callbacks=[Deviance(), Diffs()], distribution=NormalDist(), \n",
       "   fit_intercept=True, link=IdentityLink(), max_iter=100, \n",
       "   terms=s(0) + s(1) + s(2) + s(3) + s(4) + s(5) + s(6) + s(7) + s(8) + s(9) + s(10) + s(11) + s(12) + s(13) + s(14) + s(15) + s(16) + s(17) + s(18) + s(19) + s(20) + s(21) + s(22) + s(23) + s(24) + s(25) + intercept,\n",
       "   tol=0.0001, verbose=False)"
      ]
     },
     "execution_count": 154,
     "metadata": {},
     "output_type": "execute_result"
    }
   ],
   "source": [
    "from pygam import LogisticGAM\n",
    "\n",
    "gam = GAM()\n",
    "\n",
    "gam.fit(X_train, y_train)\n"
   ]
  },
  {
   "cell_type": "code",
   "execution_count": 155,
   "metadata": {},
   "outputs": [
    {
     "name": "stdout",
     "output_type": "stream",
     "text": [
      "METRIC SUMMARY\n",
      "RMSE 1001.179043370596\n"
     ]
    }
   ],
   "source": [
    "print('METRIC SUMMARY')\n",
    "print('RMSE', np.sqrt(mean_squared_error(y_test,gam.predict(X_test))))"
   ]
  },
  {
   "cell_type": "markdown",
   "metadata": {},
   "source": [
    "## SVR (Support Vector Regression)"
   ]
  },
  {
   "cell_type": "code",
   "execution_count": 156,
   "metadata": {},
   "outputs": [
    {
     "data": {
      "text/plain": [
       "SVR(C=1.0, cache_size=200, coef0=0.0, degree=3, epsilon=0.1, gamma='scale',\n",
       "    kernel='rbf', max_iter=-1, shrinking=True, tol=0.001, verbose=False)"
      ]
     },
     "execution_count": 156,
     "metadata": {},
     "output_type": "execute_result"
    }
   ],
   "source": [
    "from sklearn.svm import SVR\n",
    "\n",
    "regressor = SVR(kernel=\"rbf\")\n",
    "regressor.fit(X_train, y_train)"
   ]
  },
  {
   "cell_type": "code",
   "execution_count": 157,
   "metadata": {},
   "outputs": [
    {
     "name": "stdout",
     "output_type": "stream",
     "text": [
      "METRIC SUMMARY\n",
      "RMSE 4167.9915224937695\n"
     ]
    }
   ],
   "source": [
    "print('METRIC SUMMARY')\n",
    "print('RMSE', np.sqrt(mean_squared_error(y_test,regressor.predict(X_test))))"
   ]
  },
  {
   "cell_type": "code",
   "execution_count": 99,
   "metadata": {},
   "outputs": [],
   "source": [
    "# UNA MIERDA"
   ]
  },
  {
   "cell_type": "markdown",
   "metadata": {},
   "source": [
    "## Linear Regression"
   ]
  },
  {
   "cell_type": "code",
   "execution_count": 158,
   "metadata": {},
   "outputs": [],
   "source": [
    "from sklearn.linear_model import LinearRegression"
   ]
  },
  {
   "cell_type": "code",
   "execution_count": 159,
   "metadata": {},
   "outputs": [
    {
     "data": {
      "text/plain": [
       "LinearRegression(copy_X=True, fit_intercept=True, n_jobs=None, normalize=False)"
      ]
     },
     "execution_count": 159,
     "metadata": {},
     "output_type": "execute_result"
    }
   ],
   "source": [
    "linearReg = LinearRegression()\n",
    "linearReg.fit(X_train, y_train)"
   ]
  },
  {
   "cell_type": "code",
   "execution_count": 160,
   "metadata": {},
   "outputs": [
    {
     "name": "stdout",
     "output_type": "stream",
     "text": [
      "METRIC SUMMARY\n",
      "RMSE 1084.855359161163\n"
     ]
    }
   ],
   "source": [
    "print('METRIC SUMMARY')\n",
    "print('RMSE', np.sqrt(mean_squared_error(y_test,linearReg.predict(X_test))))"
   ]
  },
  {
   "cell_type": "markdown",
   "metadata": {},
   "source": [
    "## Gradient Boost"
   ]
  },
  {
   "cell_type": "code",
   "execution_count": 161,
   "metadata": {},
   "outputs": [
    {
     "data": {
      "text/plain": [
       "GradientBoostingRegressor(alpha=0.9, ccp_alpha=0.0, criterion='friedman_mse',\n",
       "                          init=None, learning_rate=0.1, loss='ls', max_depth=3,\n",
       "                          max_features=None, max_leaf_nodes=None,\n",
       "                          min_impurity_decrease=0.0, min_impurity_split=None,\n",
       "                          min_samples_leaf=1, min_samples_split=2,\n",
       "                          min_weight_fraction_leaf=0.0, n_estimators=100,\n",
       "                          n_iter_no_change=None, presort='deprecated',\n",
       "                          random_state=None, subsample=1.0, tol=0.0001,\n",
       "                          validation_fraction=0.1, verbose=0, warm_start=False)"
      ]
     },
     "execution_count": 161,
     "metadata": {},
     "output_type": "execute_result"
    }
   ],
   "source": [
    "from sklearn import ensemble\n",
    "\n",
    "params = {'n_estimators': 500, 'max_depth': 4, 'min_samples_split': 2,\n",
    "          'learning_rate': 0.01, 'loss': 'ls'}\n",
    "clf = ensemble.GradientBoostingRegressor()\n",
    "\n",
    "clf.fit(X_train, y_train)"
   ]
  },
  {
   "cell_type": "code",
   "execution_count": 162,
   "metadata": {},
   "outputs": [
    {
     "name": "stdout",
     "output_type": "stream",
     "text": [
      "METRIC SUMMARY\n",
      "RMSE 722.0995069285311\n"
     ]
    }
   ],
   "source": [
    "print('METRIC SUMMARY')\n",
    "print('RMSE', np.sqrt(mean_squared_error(y_test,clf.predict(X_test))))"
   ]
  },
  {
   "cell_type": "markdown",
   "metadata": {},
   "source": [
    "## Randomized Random Forest - MEJOR!"
   ]
  },
  {
   "cell_type": "code",
   "execution_count": 115,
   "metadata": {},
   "outputs": [
    {
     "name": "stdout",
     "output_type": "stream",
     "text": [
      "{'bootstrap': [True, False],\n",
      " 'max_depth': [10, 20, 30, 40, 50, 60, 70, 80, 90, 100, 110, None],\n",
      " 'max_features': ['auto', 'sqrt'],\n",
      " 'min_samples_leaf': [1, 2, 4],\n",
      " 'min_samples_split': [2, 5, 10],\n",
      " 'n_estimators': [200, 400, 600, 800, 1000, 1200, 1400, 1600, 1800, 2000]}\n"
     ]
    },
    {
     "data": {
      "text/plain": [
       "{'bootstrap': [True, False],\n",
       " 'max_depth': [10, 20, 30, 40, 50, 60, 70, 80, 90, 100, None],\n",
       " 'max_features': ['auto', 'sqrt'],\n",
       " 'min_samples_leaf': [1, 2, 4],\n",
       " 'min_samples_split': [2, 5, 10],\n",
       " 'n_estimators': [200, 400, 600, 800, 1000, 1200, 1400, 1600, 1800, 2000]}"
      ]
     },
     "execution_count": 115,
     "metadata": {},
     "output_type": "execute_result"
    }
   ],
   "source": [
    "from sklearn.model_selection import RandomizedSearchCV\n",
    "from pprint import pprint\n",
    "\n",
    "# Number of trees in random forest\n",
    "n_estimators = [int(x) for x in np.linspace(start = 200, stop = 2000, num = 10)]\n",
    "# Number of features to consider at every split\n",
    "max_features = ['auto', 'sqrt']\n",
    "# Maximum number of levels in tree\n",
    "max_depth = [int(x) for x in np.linspace(10, 110, num = 11)]\n",
    "max_depth.append(None)\n",
    "# Minimum number of samples required to split a node\n",
    "min_samples_split = [2, 5, 10]\n",
    "# Minimum number of samples required at each leaf node\n",
    "min_samples_leaf = [1, 2, 4]\n",
    "# Method of selecting samples for training each tree\n",
    "bootstrap = [True, False]\n",
    "# Create the random grid\n",
    "random_grid = {'n_estimators': n_estimators,\n",
    "               'max_features': max_features,\n",
    "               'max_depth': max_depth,\n",
    "               'min_samples_split': min_samples_split,\n",
    "               'min_samples_leaf': min_samples_leaf,\n",
    "               'bootstrap': bootstrap}\n",
    "pprint(random_grid)\n",
    "{'bootstrap': [True, False],\n",
    " 'max_depth': [10, 20, 30, 40, 50, 60, 70, 80, 90, 100, None],\n",
    " 'max_features': ['auto', 'sqrt'],\n",
    " 'min_samples_leaf': [1, 2, 4],\n",
    " 'min_samples_split': [2, 5, 10],\n",
    " 'n_estimators': [200, 400, 600, 800, 1000, 1200, 1400, 1600, 1800, 2000]}"
   ]
  },
  {
   "cell_type": "code",
   "execution_count": 116,
   "metadata": {},
   "outputs": [
    {
     "name": "stdout",
     "output_type": "stream",
     "text": [
      "Fitting 3 folds for each of 20 candidates, totalling 60 fits\n"
     ]
    },
    {
     "name": "stderr",
     "output_type": "stream",
     "text": [
      "[Parallel(n_jobs=-1)]: Using backend LokyBackend with 4 concurrent workers.\n",
      "[Parallel(n_jobs=-1)]: Done  33 tasks      | elapsed:  3.6min\n",
      "[Parallel(n_jobs=-1)]: Done  60 out of  60 | elapsed:  6.8min finished\n"
     ]
    },
    {
     "data": {
      "text/plain": [
       "RandomizedSearchCV(cv=3, error_score=nan,\n",
       "                   estimator=RandomForestRegressor(bootstrap=True,\n",
       "                                                   ccp_alpha=0.0,\n",
       "                                                   criterion='mse',\n",
       "                                                   max_depth=None,\n",
       "                                                   max_features='auto',\n",
       "                                                   max_leaf_nodes=None,\n",
       "                                                   max_samples=None,\n",
       "                                                   min_impurity_decrease=0.0,\n",
       "                                                   min_impurity_split=None,\n",
       "                                                   min_samples_leaf=1,\n",
       "                                                   min_samples_split=2,\n",
       "                                                   min_weight_fraction_leaf=0.0,\n",
       "                                                   n_estimators=100,\n",
       "                                                   n_jobs=None, oob_score=Fals...\n",
       "                   param_distributions={'bootstrap': [True, False],\n",
       "                                        'max_depth': [10, 20, 30, 40, 50, 60,\n",
       "                                                      70, 80, 90, 100, 110,\n",
       "                                                      None],\n",
       "                                        'max_features': ['auto', 'sqrt'],\n",
       "                                        'min_samples_leaf': [1, 2, 4],\n",
       "                                        'min_samples_split': [2, 5, 10],\n",
       "                                        'n_estimators': [200, 400, 600, 800,\n",
       "                                                         1000, 1200, 1400, 1600,\n",
       "                                                         1800, 2000]},\n",
       "                   pre_dispatch='2*n_jobs', random_state=42, refit=True,\n",
       "                   return_train_score=False, scoring=None, verbose=2)"
      ]
     },
     "execution_count": 116,
     "metadata": {},
     "output_type": "execute_result"
    }
   ],
   "source": [
    "# Use the random grid to search for best hyperparameters\n",
    "# First create the base model to tune\n",
    "rf = RandomForestRegressor()\n",
    "# Random search of parameters, using 3 fold cross validation, \n",
    "# search across 100 different combinations, and use all available cores\n",
    "rf_random = RandomizedSearchCV(estimator = rf, param_distributions = random_grid, n_iter = 20, cv = 3, verbose=2, random_state=42, n_jobs = -1)\n",
    "# Fit the random search model\n",
    "rf_random.fit(X_train, y_train)"
   ]
  },
  {
   "cell_type": "code",
   "execution_count": 117,
   "metadata": {},
   "outputs": [
    {
     "data": {
      "text/plain": [
       "{'n_estimators': 600,\n",
       " 'min_samples_split': 2,\n",
       " 'min_samples_leaf': 1,\n",
       " 'max_features': 'auto',\n",
       " 'max_depth': 70,\n",
       " 'bootstrap': True}"
      ]
     },
     "execution_count": 117,
     "metadata": {},
     "output_type": "execute_result"
    }
   ],
   "source": [
    "rf_random.best_params_"
   ]
  },
  {
   "cell_type": "code",
   "execution_count": 49,
   "metadata": {},
   "outputs": [],
   "source": [
    "rf_best = RandomForestRegressor(n_estimators=600, min_samples_split=2, min_samples_leaf=1,\n",
    "                               max_features=\"auto\", max_depth=70, bootstrap=True)"
   ]
  },
  {
   "cell_type": "code",
   "execution_count": 50,
   "metadata": {},
   "outputs": [
    {
     "data": {
      "text/plain": [
       "RandomForestRegressor(bootstrap=True, ccp_alpha=0.0, criterion='mse',\n",
       "                      max_depth=70, max_features='auto', max_leaf_nodes=None,\n",
       "                      max_samples=None, min_impurity_decrease=0.0,\n",
       "                      min_impurity_split=None, min_samples_leaf=1,\n",
       "                      min_samples_split=2, min_weight_fraction_leaf=0.0,\n",
       "                      n_estimators=600, n_jobs=None, oob_score=False,\n",
       "                      random_state=None, verbose=0, warm_start=False)"
      ]
     },
     "execution_count": 50,
     "metadata": {},
     "output_type": "execute_result"
    }
   ],
   "source": [
    "rf_best.fit(X_train, y_train)"
   ]
  },
  {
   "cell_type": "code",
   "execution_count": 52,
   "metadata": {},
   "outputs": [
    {
     "name": "stdout",
     "output_type": "stream",
     "text": [
      "METRIC SUMMARY FOR X_TEST\n",
      "MSE 313385.4204328646\n",
      "RMSE 559.8083783160668\n",
      "MSLE 0.013127319570751781\n",
      "MAE 291.63880577009525\n",
      "R2 0.9799991815737839\n"
     ]
    }
   ],
   "source": [
    "print('METRIC SUMMARY FOR X_TEST')\n",
    "print('MSE', mean_squared_error(y_test, rf_best.predict(X_test)))\n",
    "print('RMSE', np.sqrt(mean_squared_error(y_test, rf_best.predict(X_test))))\n",
    "print('MSLE', mean_squared_log_error(y_test, rf_best.predict(X_test)))\n",
    "print('MAE', mean_absolute_error(y_test, rf_best.predict(X_test)))\n",
    "print('R2', r2_score(y_test, rf_best.predict(X_test)))"
   ]
  },
  {
   "cell_type": "code",
   "execution_count": 139,
   "metadata": {},
   "outputs": [],
   "source": [
    "y_pred = rf_best.predict(X_test)"
   ]
  },
  {
   "cell_type": "markdown",
   "metadata": {},
   "source": [
    "### Compruebo Overfitting"
   ]
  },
  {
   "cell_type": "code",
   "execution_count": 54,
   "metadata": {},
   "outputs": [
    {
     "name": "stdout",
     "output_type": "stream",
     "text": [
      "METRIC SUMMARY FOR X_TRAIN\n",
      "MSE 45630.95721321178\n",
      "RMSE 213.61403795914674\n",
      "MSLE 0.002517340892239484\n",
      "MAE 113.56775828705896\n",
      "R2 0.9971525553397326\n"
     ]
    }
   ],
   "source": [
    "print('METRIC SUMMARY FOR X_TRAIN')\n",
    "print('MSE', mean_squared_error(y_train, rf_best.predict(X_train)))\n",
    "print('RMSE', np.sqrt(mean_squared_error(y_train, rf_best.predict(X_train))))\n",
    "print('MSLE', mean_squared_log_error(y_train, rf_best.predict(X_train)))\n",
    "print('MAE', mean_absolute_error(y_train, rf_best.predict(X_train)))\n",
    "print('R2', r2_score(y_train, rf_best.predict(X_train)))"
   ]
  },
  {
   "cell_type": "markdown",
   "metadata": {},
   "source": [
    "#### Hay overfitting en mi modelo. Las predicciones para train son mucho mejores que las de test."
   ]
  },
  {
   "cell_type": "markdown",
   "metadata": {},
   "source": [
    "## AUTOML"
   ]
  },
  {
   "cell_type": "code",
   "execution_count": 1,
   "metadata": {},
   "outputs": [],
   "source": [
    "import h2o\n",
    "\n",
    "from h2o.automl import H2OAutoML"
   ]
  },
  {
   "cell_type": "code",
   "execution_count": 2,
   "metadata": {},
   "outputs": [
    {
     "name": "stdout",
     "output_type": "stream",
     "text": [
      "Checking whether there is an H2O instance running at http://localhost:54321 ..... not found.\n",
      "Attempting to start a local H2O server...\n",
      "  Java Version: openjdk version \"1.8.0_242\"; OpenJDK Runtime Environment (build 1.8.0_242-8u242-b08-0ubuntu3~18.04-b08); OpenJDK 64-Bit Server VM (build 25.242-b08, mixed mode)\n",
      "  Starting server from /home/linuxbrew/.linuxbrew/lib/python3.7/site-packages/h2o/backend/bin/h2o.jar\n",
      "  Ice root: /tmp/tmpzx90sm_k\n",
      "  JVM stdout: /tmp/tmpzx90sm_k/h2o_irene_started_from_python.out\n",
      "  JVM stderr: /tmp/tmpzx90sm_k/h2o_irene_started_from_python.err\n",
      "  Server is running at http://127.0.0.1:54321\n",
      "Connecting to H2O server at http://127.0.0.1:54321 ... successful.\n"
     ]
    },
    {
     "data": {
      "text/html": [
       "<div style=\"overflow:auto\"><table style=\"width:50%\"><tr><td>H2O cluster uptime:</td>\n",
       "<td>01 secs</td></tr>\n",
       "<tr><td>H2O cluster timezone:</td>\n",
       "<td>Europe/Madrid</td></tr>\n",
       "<tr><td>H2O data parsing timezone:</td>\n",
       "<td>UTC</td></tr>\n",
       "<tr><td>H2O cluster version:</td>\n",
       "<td>3.28.0.3</td></tr>\n",
       "<tr><td>H2O cluster version age:</td>\n",
       "<td>25 days </td></tr>\n",
       "<tr><td>H2O cluster name:</td>\n",
       "<td>H2O_from_python_irene_93cadk</td></tr>\n",
       "<tr><td>H2O cluster total nodes:</td>\n",
       "<td>1</td></tr>\n",
       "<tr><td>H2O cluster free memory:</td>\n",
       "<td>1.696 Gb</td></tr>\n",
       "<tr><td>H2O cluster total cores:</td>\n",
       "<td>4</td></tr>\n",
       "<tr><td>H2O cluster allowed cores:</td>\n",
       "<td>4</td></tr>\n",
       "<tr><td>H2O cluster status:</td>\n",
       "<td>accepting new members, healthy</td></tr>\n",
       "<tr><td>H2O connection url:</td>\n",
       "<td>http://127.0.0.1:54321</td></tr>\n",
       "<tr><td>H2O connection proxy:</td>\n",
       "<td>{'http': None, 'https': None}</td></tr>\n",
       "<tr><td>H2O internal security:</td>\n",
       "<td>False</td></tr>\n",
       "<tr><td>H2O API Extensions:</td>\n",
       "<td>Amazon S3, XGBoost, Algos, AutoML, Core V3, TargetEncoder, Core V4</td></tr>\n",
       "<tr><td>Python version:</td>\n",
       "<td>3.7.5 final</td></tr></table></div>"
      ],
      "text/plain": [
       "--------------------------  ------------------------------------------------------------------\n",
       "H2O cluster uptime:         01 secs\n",
       "H2O cluster timezone:       Europe/Madrid\n",
       "H2O data parsing timezone:  UTC\n",
       "H2O cluster version:        3.28.0.3\n",
       "H2O cluster version age:    25 days\n",
       "H2O cluster name:           H2O_from_python_irene_93cadk\n",
       "H2O cluster total nodes:    1\n",
       "H2O cluster free memory:    1.696 Gb\n",
       "H2O cluster total cores:    4\n",
       "H2O cluster allowed cores:  4\n",
       "H2O cluster status:         accepting new members, healthy\n",
       "H2O connection url:         http://127.0.0.1:54321\n",
       "H2O connection proxy:       {'http': None, 'https': None}\n",
       "H2O internal security:      False\n",
       "H2O API Extensions:         Amazon S3, XGBoost, Algos, AutoML, Core V3, TargetEncoder, Core V4\n",
       "Python version:             3.7.5 final\n",
       "--------------------------  ------------------------------------------------------------------"
      ]
     },
     "metadata": {},
     "output_type": "display_data"
    }
   ],
   "source": [
    "h2o.init()"
   ]
  },
  {
   "cell_type": "code",
   "execution_count": 3,
   "metadata": {},
   "outputs": [
    {
     "name": "stdout",
     "output_type": "stream",
     "text": [
      "Parse progress: |█████████████████████████████████████████████████████████| 100%\n"
     ]
    },
    {
     "data": {
      "text/html": [
       "<table>\n",
       "<thead>\n",
       "<tr><th style=\"text-align: right;\">     carat</th><th style=\"text-align: right;\">   depth</th><th style=\"text-align: right;\">   table</th><th style=\"text-align: right;\">        x</th><th style=\"text-align: right;\">        y</th><th style=\"text-align: right;\">        z</th><th style=\"text-align: right;\">  price</th><th style=\"text-align: right;\">  cut_Fair</th><th style=\"text-align: right;\">  cut_Good</th><th style=\"text-align: right;\">  cut_Ideal</th><th style=\"text-align: right;\">  cut_Premium</th><th style=\"text-align: right;\">  cut_Very Good</th><th style=\"text-align: right;\">  color_D</th><th style=\"text-align: right;\">  color_E</th><th style=\"text-align: right;\">  color_F</th><th style=\"text-align: right;\">  color_G</th><th style=\"text-align: right;\">  color_H</th><th style=\"text-align: right;\">  color_I</th><th style=\"text-align: right;\">  color_J</th><th style=\"text-align: right;\">  clarity_I1</th><th style=\"text-align: right;\">  clarity_IF</th><th style=\"text-align: right;\">  clarity_SI1</th><th style=\"text-align: right;\">  clarity_SI2</th><th style=\"text-align: right;\">  clarity_VS1</th><th style=\"text-align: right;\">  clarity_VS2</th><th style=\"text-align: right;\">  clarity_VVS1</th><th style=\"text-align: right;\">  clarity_VVS2</th></tr>\n",
       "</thead>\n",
       "<tbody>\n",
       "<tr><td style=\"text-align: right;\">0.00917255</td><td style=\"text-align: right;\">0.72322 </td><td style=\"text-align: right;\">0.682061</td><td style=\"text-align: right;\">0.0697349</td><td style=\"text-align: right;\">0.0703229</td><td style=\"text-align: right;\">0.0430404</td><td style=\"text-align: right;\">   3446</td><td style=\"text-align: right;\">         0</td><td style=\"text-align: right;\">         0</td><td style=\"text-align: right;\">          0</td><td style=\"text-align: right;\">            1</td><td style=\"text-align: right;\">              0</td><td style=\"text-align: right;\">        0</td><td style=\"text-align: right;\">        0</td><td style=\"text-align: right;\">        1</td><td style=\"text-align: right;\">        0</td><td style=\"text-align: right;\">        0</td><td style=\"text-align: right;\">        0</td><td style=\"text-align: right;\">        0</td><td style=\"text-align: right;\">           0</td><td style=\"text-align: right;\">           0</td><td style=\"text-align: right;\">            0</td><td style=\"text-align: right;\">            0</td><td style=\"text-align: right;\">            1</td><td style=\"text-align: right;\">            0</td><td style=\"text-align: right;\">             0</td><td style=\"text-align: right;\">             0</td></tr>\n",
       "<tr><td style=\"text-align: right;\">0.00373807</td><td style=\"text-align: right;\">0.733144</td><td style=\"text-align: right;\">0.675264</td><td style=\"text-align: right;\">0.0526947</td><td style=\"text-align: right;\">0.0520918</td><td style=\"text-align: right;\">0.0318339</td><td style=\"text-align: right;\">    732</td><td style=\"text-align: right;\">         0</td><td style=\"text-align: right;\">         0</td><td style=\"text-align: right;\">          1</td><td style=\"text-align: right;\">            0</td><td style=\"text-align: right;\">              0</td><td style=\"text-align: right;\">        1</td><td style=\"text-align: right;\">        0</td><td style=\"text-align: right;\">        0</td><td style=\"text-align: right;\">        0</td><td style=\"text-align: right;\">        0</td><td style=\"text-align: right;\">        0</td><td style=\"text-align: right;\">        0</td><td style=\"text-align: right;\">           0</td><td style=\"text-align: right;\">           0</td><td style=\"text-align: right;\">            1</td><td style=\"text-align: right;\">            0</td><td style=\"text-align: right;\">            0</td><td style=\"text-align: right;\">            0</td><td style=\"text-align: right;\">             0</td><td style=\"text-align: right;\">             0</td></tr>\n",
       "<tr><td style=\"text-align: right;\">0.00362687</td><td style=\"text-align: right;\">0.753179</td><td style=\"text-align: right;\">0.652836</td><td style=\"text-align: right;\">0.0519851</td><td style=\"text-align: right;\">0.0524687</td><td style=\"text-align: right;\">0.0325209</td><td style=\"text-align: right;\">    475</td><td style=\"text-align: right;\">         0</td><td style=\"text-align: right;\">         0</td><td style=\"text-align: right;\">          1</td><td style=\"text-align: right;\">            0</td><td style=\"text-align: right;\">              0</td><td style=\"text-align: right;\">        0</td><td style=\"text-align: right;\">        0</td><td style=\"text-align: right;\">        1</td><td style=\"text-align: right;\">        0</td><td style=\"text-align: right;\">        0</td><td style=\"text-align: right;\">        0</td><td style=\"text-align: right;\">        0</td><td style=\"text-align: right;\">           0</td><td style=\"text-align: right;\">           0</td><td style=\"text-align: right;\">            1</td><td style=\"text-align: right;\">            0</td><td style=\"text-align: right;\">            0</td><td style=\"text-align: right;\">            0</td><td style=\"text-align: right;\">             0</td><td style=\"text-align: right;\">             0</td></tr>\n",
       "<tr><td style=\"text-align: right;\">0.0121641 </td><td style=\"text-align: right;\">0.725167</td><td style=\"text-align: right;\">0.678382</td><td style=\"text-align: right;\">0.0764934</td><td style=\"text-align: right;\">0.0755577</td><td style=\"text-align: right;\">0.0471359</td><td style=\"text-align: right;\">   9552</td><td style=\"text-align: right;\">         0</td><td style=\"text-align: right;\">         0</td><td style=\"text-align: right;\">          1</td><td style=\"text-align: right;\">            0</td><td style=\"text-align: right;\">              0</td><td style=\"text-align: right;\">        0</td><td style=\"text-align: right;\">        1</td><td style=\"text-align: right;\">        0</td><td style=\"text-align: right;\">        0</td><td style=\"text-align: right;\">        0</td><td style=\"text-align: right;\">        0</td><td style=\"text-align: right;\">        0</td><td style=\"text-align: right;\">           0</td><td style=\"text-align: right;\">           0</td><td style=\"text-align: right;\">            0</td><td style=\"text-align: right;\">            0</td><td style=\"text-align: right;\">            0</td><td style=\"text-align: right;\">            0</td><td style=\"text-align: right;\">             0</td><td style=\"text-align: right;\">             1</td></tr>\n",
       "<tr><td style=\"text-align: right;\">0.00784218</td><td style=\"text-align: right;\">0.740785</td><td style=\"text-align: right;\">0.663569</td><td style=\"text-align: right;\">0.0673221</td><td style=\"text-align: right;\">0.0678047</td><td style=\"text-align: right;\">0.0415032</td><td style=\"text-align: right;\">   1276</td><td style=\"text-align: right;\">         0</td><td style=\"text-align: right;\">         0</td><td style=\"text-align: right;\">          1</td><td style=\"text-align: right;\">            0</td><td style=\"text-align: right;\">              0</td><td style=\"text-align: right;\">        0</td><td style=\"text-align: right;\">        0</td><td style=\"text-align: right;\">        0</td><td style=\"text-align: right;\">        0</td><td style=\"text-align: right;\">        0</td><td style=\"text-align: right;\">        0</td><td style=\"text-align: right;\">        1</td><td style=\"text-align: right;\">           0</td><td style=\"text-align: right;\">           0</td><td style=\"text-align: right;\">            1</td><td style=\"text-align: right;\">            0</td><td style=\"text-align: right;\">            0</td><td style=\"text-align: right;\">            0</td><td style=\"text-align: right;\">             0</td><td style=\"text-align: right;\">             0</td></tr>\n",
       "<tr><td style=\"text-align: right;\">0.0103506 </td><td style=\"text-align: right;\">0.715343</td><td style=\"text-align: right;\">0.690041</td><td style=\"text-align: right;\">0.0707292</td><td style=\"text-align: right;\">0.0711892</td><td style=\"text-align: right;\">0.0441626</td><td style=\"text-align: right;\">   3662</td><td style=\"text-align: right;\">         0</td><td style=\"text-align: right;\">         0</td><td style=\"text-align: right;\">          0</td><td style=\"text-align: right;\">            1</td><td style=\"text-align: right;\">              0</td><td style=\"text-align: right;\">        0</td><td style=\"text-align: right;\">        1</td><td style=\"text-align: right;\">        0</td><td style=\"text-align: right;\">        0</td><td style=\"text-align: right;\">        0</td><td style=\"text-align: right;\">        0</td><td style=\"text-align: right;\">        0</td><td style=\"text-align: right;\">           0</td><td style=\"text-align: right;\">           0</td><td style=\"text-align: right;\">            0</td><td style=\"text-align: right;\">            1</td><td style=\"text-align: right;\">            0</td><td style=\"text-align: right;\">            0</td><td style=\"text-align: right;\">             0</td><td style=\"text-align: right;\">             0</td></tr>\n",
       "<tr><td style=\"text-align: right;\">0.00371809</td><td style=\"text-align: right;\">0.747216</td><td style=\"text-align: right;\">0.659661</td><td style=\"text-align: right;\">0.0520533</td><td style=\"text-align: right;\">0.0522932</td><td style=\"text-align: right;\">0.0325033</td><td style=\"text-align: right;\">    446</td><td style=\"text-align: right;\">         0</td><td style=\"text-align: right;\">         0</td><td style=\"text-align: right;\">          0</td><td style=\"text-align: right;\">            0</td><td style=\"text-align: right;\">              1</td><td style=\"text-align: right;\">        0</td><td style=\"text-align: right;\">        0</td><td style=\"text-align: right;\">        0</td><td style=\"text-align: right;\">        0</td><td style=\"text-align: right;\">        1</td><td style=\"text-align: right;\">        0</td><td style=\"text-align: right;\">        0</td><td style=\"text-align: right;\">           0</td><td style=\"text-align: right;\">           0</td><td style=\"text-align: right;\">            1</td><td style=\"text-align: right;\">            0</td><td style=\"text-align: right;\">            0</td><td style=\"text-align: right;\">            0</td><td style=\"text-align: right;\">             0</td><td style=\"text-align: right;\">             0</td></tr>\n",
       "<tr><td style=\"text-align: right;\">0.00807517</td><td style=\"text-align: right;\">0.734727</td><td style=\"text-align: right;\">0.671035</td><td style=\"text-align: right;\">0.063919 </td><td style=\"text-align: right;\">0.0635778</td><td style=\"text-align: right;\">0.041172 </td><td style=\"text-align: right;\">   2902</td><td style=\"text-align: right;\">         1</td><td style=\"text-align: right;\">         0</td><td style=\"text-align: right;\">          0</td><td style=\"text-align: right;\">            0</td><td style=\"text-align: right;\">              0</td><td style=\"text-align: right;\">        0</td><td style=\"text-align: right;\">        1</td><td style=\"text-align: right;\">        0</td><td style=\"text-align: right;\">        0</td><td style=\"text-align: right;\">        0</td><td style=\"text-align: right;\">        0</td><td style=\"text-align: right;\">        0</td><td style=\"text-align: right;\">           0</td><td style=\"text-align: right;\">           0</td><td style=\"text-align: right;\">            0</td><td style=\"text-align: right;\">            0</td><td style=\"text-align: right;\">            0</td><td style=\"text-align: right;\">            1</td><td style=\"text-align: right;\">             0</td><td style=\"text-align: right;\">             0</td></tr>\n",
       "<tr><td style=\"text-align: right;\">0.0239853 </td><td style=\"text-align: right;\">0.730088</td><td style=\"text-align: right;\">0.666908</td><td style=\"text-align: right;\">0.0955901</td><td style=\"text-align: right;\">0.0946541</td><td style=\"text-align: right;\">0.0594367</td><td style=\"text-align: right;\">  18193</td><td style=\"text-align: right;\">         0</td><td style=\"text-align: right;\">         0</td><td style=\"text-align: right;\">          1</td><td style=\"text-align: right;\">            0</td><td style=\"text-align: right;\">              0</td><td style=\"text-align: right;\">        0</td><td style=\"text-align: right;\">        1</td><td style=\"text-align: right;\">        0</td><td style=\"text-align: right;\">        0</td><td style=\"text-align: right;\">        0</td><td style=\"text-align: right;\">        0</td><td style=\"text-align: right;\">        0</td><td style=\"text-align: right;\">           0</td><td style=\"text-align: right;\">           0</td><td style=\"text-align: right;\">            1</td><td style=\"text-align: right;\">            0</td><td style=\"text-align: right;\">            0</td><td style=\"text-align: right;\">            0</td><td style=\"text-align: right;\">             0</td><td style=\"text-align: right;\">             0</td></tr>\n",
       "<tr><td style=\"text-align: right;\">0.0129378 </td><td style=\"text-align: right;\">0.72099 </td><td style=\"text-align: right;\">0.682176</td><td style=\"text-align: right;\">0.0780974</td><td style=\"text-align: right;\">0.0789207</td><td style=\"text-align: right;\">0.0481052</td><td style=\"text-align: right;\">   4791</td><td style=\"text-align: right;\">         0</td><td style=\"text-align: right;\">         0</td><td style=\"text-align: right;\">          0</td><td style=\"text-align: right;\">            0</td><td style=\"text-align: right;\">              1</td><td style=\"text-align: right;\">        0</td><td style=\"text-align: right;\">        1</td><td style=\"text-align: right;\">        0</td><td style=\"text-align: right;\">        0</td><td style=\"text-align: right;\">        0</td><td style=\"text-align: right;\">        0</td><td style=\"text-align: right;\">        0</td><td style=\"text-align: right;\">           0</td><td style=\"text-align: right;\">           0</td><td style=\"text-align: right;\">            1</td><td style=\"text-align: right;\">            0</td><td style=\"text-align: right;\">            0</td><td style=\"text-align: right;\">            0</td><td style=\"text-align: right;\">             0</td><td style=\"text-align: right;\">             0</td></tr>\n",
       "</tbody>\n",
       "</table>"
      ]
     },
     "metadata": {},
     "output_type": "display_data"
    },
    {
     "data": {
      "text/plain": []
     },
     "execution_count": 3,
     "metadata": {},
     "output_type": "execute_result"
    }
   ],
   "source": [
    "df = h2o.import_file(\"../output/clean_diamonds2.csv\")\n",
    "df.head()"
   ]
  },
  {
   "cell_type": "code",
   "execution_count": 4,
   "metadata": {},
   "outputs": [],
   "source": [
    "df[\"price\"] = df[\"price\"].asfactor()"
   ]
  },
  {
   "cell_type": "code",
   "execution_count": 5,
   "metadata": {},
   "outputs": [],
   "source": [
    "splits = df.split_frame(ratios=[0.8],seed=1)\n",
    "train = splits[0]\n",
    "test = splits[1]"
   ]
  },
  {
   "cell_type": "code",
   "execution_count": 6,
   "metadata": {},
   "outputs": [],
   "source": [
    "y = \"price\" \n",
    "x = df.columns "
   ]
  },
  {
   "cell_type": "code",
   "execution_count": 9,
   "metadata": {},
   "outputs": [
    {
     "name": "stdout",
     "output_type": "stream",
     "text": [
      "AutoML progress: |█████████████████\n",
      "07:19:30.344: XGBoost_1_AutoML_20200302_071803 [XGBoost def_1] failed: java.lang.UnsupportedOperationException: error cannot be computed: too many classes\n",
      "\n",
      "███████████████\n",
      "07:20:53.167: XGBoost_2_AutoML_20200302_071803 [XGBoost def_2] failed: java.lang.UnsupportedOperationException: error cannot be computed: too many classes\n",
      "\n",
      "████████████████\n",
      "07:22:21.453: XGBoost_3_AutoML_20200302_071803 [XGBoost def_3] failed: java.lang.UnsupportedOperationException: error cannot be computed: too many classes\n",
      "\n",
      "████████| 100%\n",
      "\n",
      "07:23:04.657: Empty leaderboard.\n",
      "AutoML was not able to build any model within a max runtime constraint of 300 seconds, you may want to increase this value before retrying.\n",
      "\n"
     ]
    }
   ],
   "source": [
    "aml = H2OAutoML(max_runtime_secs=300, seed=1)\n",
    "aml.train(x=x,y=y, training_frame=train)"
   ]
  },
  {
   "cell_type": "code",
   "execution_count": 10,
   "metadata": {},
   "outputs": [
    {
     "name": "stdout",
     "output_type": "stream",
     "text": [
      "This H2OFrame is empty.\n"
     ]
    },
    {
     "data": {
      "text/plain": []
     },
     "execution_count": 10,
     "metadata": {},
     "output_type": "execute_result"
    }
   ],
   "source": [
    "lb = aml.leaderboard\n",
    "lb.head()"
   ]
  },
  {
   "cell_type": "code",
   "execution_count": 11,
   "metadata": {},
   "outputs": [
    {
     "data": {
      "text/plain": [
       "[]"
      ]
     },
     "execution_count": 11,
     "metadata": {},
     "output_type": "execute_result"
    }
   ],
   "source": [
    "list(aml.leaderboard['model_id'].as_data_frame().iloc[:,0])"
   ]
  },
  {
   "cell_type": "code",
   "execution_count": 12,
   "metadata": {},
   "outputs": [
    {
     "name": "stdout",
     "output_type": "stream",
     "text": [
      "No model built yet...\n"
     ]
    },
    {
     "ename": "AttributeError",
     "evalue": "'NoneType' object has no attribute 'head'",
     "output_type": "error",
     "traceback": [
      "\u001b[0;31m---------------------------------------------------------------------------\u001b[0m",
      "\u001b[0;31mAttributeError\u001b[0m                            Traceback (most recent call last)",
      "\u001b[0;32m<ipython-input-12-2dd52797280e>\u001b[0m in \u001b[0;36m<module>\u001b[0;34m\u001b[0m\n\u001b[1;32m      1\u001b[0m \u001b[0mpred\u001b[0m \u001b[0;34m=\u001b[0m \u001b[0maml\u001b[0m\u001b[0;34m.\u001b[0m\u001b[0mpredict\u001b[0m\u001b[0;34m(\u001b[0m\u001b[0mtest\u001b[0m\u001b[0;34m)\u001b[0m\u001b[0;34m\u001b[0m\u001b[0;34m\u001b[0m\u001b[0m\n\u001b[0;32m----> 2\u001b[0;31m \u001b[0mpred\u001b[0m\u001b[0;34m.\u001b[0m\u001b[0mhead\u001b[0m\u001b[0;34m(\u001b[0m\u001b[0;34m)\u001b[0m\u001b[0;34m\u001b[0m\u001b[0;34m\u001b[0m\u001b[0m\n\u001b[0m",
      "\u001b[0;31mAttributeError\u001b[0m: 'NoneType' object has no attribute 'head'"
     ]
    }
   ],
   "source": [
    "pred = aml.predict(test)\n",
    "pred.head()"
   ]
  },
  {
   "cell_type": "code",
   "execution_count": null,
   "metadata": {},
   "outputs": [],
   "source": []
  }
 ],
 "metadata": {
  "kernelspec": {
   "display_name": "Python 3.7.5 64-bit",
   "language": "python",
   "name": "python37564bitf35c935f37be41a685ee2de060be5699"
  },
  "language_info": {
   "codemirror_mode": {
    "name": "ipython",
    "version": 3
   },
   "file_extension": ".py",
   "mimetype": "text/x-python",
   "name": "python",
   "nbconvert_exporter": "python",
   "pygments_lexer": "ipython3",
   "version": "3.7.5"
  }
 },
 "nbformat": 4,
 "nbformat_minor": 2
}
